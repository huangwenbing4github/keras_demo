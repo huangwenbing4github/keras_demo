{
  "nbformat": 4,
  "nbformat_minor": 0,
  "metadata": {
    "colab": {
      "provenance": [],
      "authorship_tag": "ABX9TyPibEh7Q0uAgasqzQOsJW8W",
      "include_colab_link": true
    },
    "kernelspec": {
      "name": "python3",
      "display_name": "Python 3"
    },
    "language_info": {
      "name": "python"
    },
    "gpuClass": "standard"
  },
  "cells": [
    {
      "cell_type": "markdown",
      "metadata": {
        "id": "view-in-github",
        "colab_type": "text"
      },
      "source": [
        "<a href=\"https://colab.research.google.com/github/huangwenbing4github/keras_demo/blob/main/pytorch-demo.ipynb\" target=\"_parent\"><img src=\"https://colab.research.google.com/assets/colab-badge.svg\" alt=\"Open In Colab\"/></a>"
      ]
    },
    {
      "cell_type": "code",
      "source": [
        "import torch\n",
        "from torch import nn\n",
        "from torch.utils.data import DataLoader\n",
        "from torchvision import datasets\n",
        "from torchvision.transforms import ToTensor"
      ],
      "metadata": {
        "id": "U5IXi2avwoys"
      },
      "execution_count": 18,
      "outputs": []
    },
    {
      "cell_type": "code",
      "source": [
        "train = datasets.FashionMNIST(root='data', train=True, download=True, transform=ToTensor())\n",
        "test_data = datasets.FashionMNIST(root='data', train=False, download=True, transform=ToTensor())"
      ],
      "metadata": {
        "id": "WtmWw1lnw7e_"
      },
      "execution_count": 33,
      "outputs": []
    },
    {
      "cell_type": "code",
      "source": [
        "batch_size = 64\n",
        "train_dataloader = DataLoader(train, batch_size=batch_size)\n",
        "test_dataloader = DataLoader(test, batch_size=batch_size)\n",
        "\n",
        "for X,y in test_dataloader:\n",
        "  print(f'Shape of X[N,C,H,W]: {X.shape}')\n",
        "  print(f'Shape of y:{y.shape},{y.dtype}')\n",
        "  break"
      ],
      "metadata": {
        "colab": {
          "base_uri": "https://localhost:8080/"
        },
        "id": "W3-52r1yxXyx",
        "outputId": "4e976f1d-b2fa-4b6d-a306-967cdc386367"
      },
      "execution_count": 20,
      "outputs": [
        {
          "output_type": "stream",
          "name": "stdout",
          "text": [
            "Shape of X[N,C,H,W]: torch.Size([64, 1, 28, 28])\n",
            "Shape of y:torch.Size([64]),torch.int64\n"
          ]
        }
      ]
    },
    {
      "cell_type": "code",
      "source": [
        "device = ('cuda' if torch.cuda.is_available() else 'mps' if torch.backends.mps.is_available() else 'cpu')\n",
        "print(device)\n"
      ],
      "metadata": {
        "colab": {
          "base_uri": "https://localhost:8080/"
        },
        "id": "4tg-ETq7x80U",
        "outputId": "3f65541f-6502-4b5d-db52-9bdd1a9a9dc7"
      },
      "execution_count": 21,
      "outputs": [
        {
          "output_type": "stream",
          "name": "stdout",
          "text": [
            "cpu\n"
          ]
        }
      ]
    },
    {
      "cell_type": "code",
      "source": [
        "class NeuralNetwork(nn.Module):\n",
        "  def __init__(self):\n",
        "    super().__init__()\n",
        "    self.flatten = nn.Flatten()\n",
        "    self.linear_relu_stack = nn.Sequential(\n",
        "        nn.Linear(28*28, 512),\n",
        "        nn.ReLU(),\n",
        "        nn.Linear(512,512),\n",
        "        nn.ReLU(),\n",
        "        nn.Linear(512,10)\n",
        "    )\n",
        "\n",
        "  def forward(self, x):\n",
        "    x = self.flatten(x)\n",
        "    logits = self.linear_relu_stack(x)\n",
        "    return logits\n",
        "model = NeuralNetwork().to(device)\n",
        "print(model)"
      ],
      "metadata": {
        "colab": {
          "base_uri": "https://localhost:8080/"
        },
        "id": "9gmelQ2jyJ3s",
        "outputId": "c8ea40fd-f212-4efd-b847-c564a3b8b8be"
      },
      "execution_count": 22,
      "outputs": [
        {
          "output_type": "stream",
          "name": "stdout",
          "text": [
            "NeuralNetwork(\n",
            "  (flatten): Flatten(start_dim=1, end_dim=-1)\n",
            "  (linear_relu_stack): Sequential(\n",
            "    (0): Linear(in_features=784, out_features=512, bias=True)\n",
            "    (1): ReLU()\n",
            "    (2): Linear(in_features=512, out_features=512, bias=True)\n",
            "    (3): ReLU()\n",
            "    (4): Linear(in_features=512, out_features=10, bias=True)\n",
            "  )\n",
            ")\n"
          ]
        }
      ]
    },
    {
      "cell_type": "code",
      "source": [
        "loss_fn = nn.CrossEntropyLoss()\n",
        "optimizer = torch.optim.SGD(model.parameters(), lr=1e-3)"
      ],
      "metadata": {
        "id": "t87xm8jfzJOv"
      },
      "execution_count": 23,
      "outputs": []
    },
    {
      "cell_type": "code",
      "source": [
        "def train(dataloader, model, loss_fn, optimizer):\n",
        "  size = len(dataloader.dataset)\n",
        "  model.train()\n",
        "  for batch, (X,y) in enumerate(dataloader):\n",
        "    X,y = X.to(device), y.to(device)\n",
        "    pred = model(X)\n",
        "    loss = loss_fn(pred, y)\n",
        "    optimizer.zero_grad()\n",
        "    loss.backward()\n",
        "    optimizer.step()\n",
        "    if batch % 100 == 0:\n",
        "      loss,current = loss.item,(batch+1)*len(X)\n",
        "      print(f'loss:{loss}, {current}, {size}')"
      ],
      "metadata": {
        "id": "kzpwz6LOzaQ2"
      },
      "execution_count": 24,
      "outputs": []
    },
    {
      "cell_type": "code",
      "source": [
        "def test(dataloader, model, loss_fn):\n",
        "  size = len(dataloader.dataset)\n",
        "  num_batches = len(dataloader)\n",
        "  model.eval()\n",
        "  test_loss, correct = 0,0\n",
        "  with torch.no_grad():\n",
        "    for X, y in dataloader:\n",
        "      X,y = X.to(device),y.to(device)\n",
        "      pred = model(X)\n",
        "      test_loss += loss_fn(pred, y).item()\n",
        "      correct += (pred.argmax(1) == y).type(torch.float).sum().item()\n",
        "  test_loss /= num_batches\n",
        "  correct /= size\n",
        "  print(f'test error: accuracy {100*correct}, avg_loss: {test_loss}')"
      ],
      "metadata": {
        "id": "DHNS04Zf0F5n"
      },
      "execution_count": 25,
      "outputs": []
    },
    {
      "cell_type": "code",
      "source": [
        "epochs = 5\n",
        "for t in range(epochs):\n",
        "  train(train_dataloader, model, loss_fn, optimizer)\n",
        "  test(test_dataloader, model, loss_fn)\n",
        "print('done')"
      ],
      "metadata": {
        "colab": {
          "base_uri": "https://localhost:8080/"
        },
        "id": "mhM1mla22mG6",
        "outputId": "9617a681-e459-41ac-daff-f5fb06172bab"
      },
      "execution_count": 26,
      "outputs": [
        {
          "output_type": "stream",
          "name": "stdout",
          "text": [
            "loss:<built-in method item of Tensor object at 0x7ffb0602a0e0>, 64, 60000\n",
            "loss:<built-in method item of Tensor object at 0x7ffb05e4edb0>, 6464, 60000\n",
            "loss:<built-in method item of Tensor object at 0x7ffb05e4ee00>, 12864, 60000\n",
            "loss:<built-in method item of Tensor object at 0x7ffb05e53130>, 19264, 60000\n",
            "loss:<built-in method item of Tensor object at 0x7ffb05e82450>, 25664, 60000\n",
            "loss:<built-in method item of Tensor object at 0x7ffb0602a4a0>, 32064, 60000\n",
            "loss:<built-in method item of Tensor object at 0x7ffb05e5b360>, 38464, 60000\n",
            "loss:<built-in method item of Tensor object at 0x7ffb05e82590>, 44864, 60000\n",
            "loss:<built-in method item of Tensor object at 0x7ffb05e82770>, 51264, 60000\n",
            "loss:<built-in method item of Tensor object at 0x7ffb0600bc70>, 57664, 60000\n",
            "test error: accuracy 37.95, avg_loss: 2.1428447878284818\n",
            "loss:<built-in method item of Tensor object at 0x7ffb05e5b4f0>, 64, 60000\n",
            "loss:<built-in method item of Tensor object at 0x7ffb05e824f0>, 6464, 60000\n",
            "loss:<built-in method item of Tensor object at 0x7ffb05e7bc70>, 12864, 60000\n",
            "loss:<built-in method item of Tensor object at 0x7ffb0621e680>, 19264, 60000\n",
            "loss:<built-in method item of Tensor object at 0x7ffb05ffb540>, 25664, 60000\n",
            "loss:<built-in method item of Tensor object at 0x7ffb0600b9f0>, 32064, 60000\n",
            "loss:<built-in method item of Tensor object at 0x7ffb05e70e00>, 38464, 60000\n",
            "loss:<built-in method item of Tensor object at 0x7ffb05e4eef0>, 44864, 60000\n",
            "loss:<built-in method item of Tensor object at 0x7ffb05e70f40>, 51264, 60000\n",
            "loss:<built-in method item of Tensor object at 0x7ffb05e82310>, 57664, 60000\n",
            "test error: accuracy 54.459999999999994, avg_loss: 1.8592333201390163\n",
            "loss:<built-in method item of Tensor object at 0x7ffb0600be50>, 64, 60000\n",
            "loss:<built-in method item of Tensor object at 0x7ffb06285ae0>, 6464, 60000\n",
            "loss:<built-in method item of Tensor object at 0x7ffb0601c540>, 12864, 60000\n",
            "loss:<built-in method item of Tensor object at 0x7ffb05ffb540>, 19264, 60000\n",
            "loss:<built-in method item of Tensor object at 0x7ffb05f0e090>, 25664, 60000\n",
            "loss:<built-in method item of Tensor object at 0x7ffb06285ae0>, 32064, 60000\n",
            "loss:<built-in method item of Tensor object at 0x7ffb0601c400>, 38464, 60000\n",
            "loss:<built-in method item of Tensor object at 0x7ffb05e4eef0>, 44864, 60000\n",
            "loss:<built-in method item of Tensor object at 0x7ffb05ffb540>, 51264, 60000\n",
            "loss:<built-in method item of Tensor object at 0x7ffb0600b9f0>, 57664, 60000\n",
            "test error: accuracy 59.519999999999996, avg_loss: 1.494183536547764\n",
            "loss:<built-in method item of Tensor object at 0x7ffb05e534f0>, 64, 60000\n",
            "loss:<built-in method item of Tensor object at 0x7ffb05ffb540>, 6464, 60000\n",
            "loss:<built-in method item of Tensor object at 0x7ffb060dae00>, 12864, 60000\n",
            "loss:<built-in method item of Tensor object at 0x7ffb05e5b9f0>, 19264, 60000\n",
            "loss:<built-in method item of Tensor object at 0x7ffb0601cea0>, 25664, 60000\n",
            "loss:<built-in method item of Tensor object at 0x7ffb0601ce50>, 32064, 60000\n",
            "loss:<built-in method item of Tensor object at 0x7ffb05e7b1d0>, 38464, 60000\n",
            "loss:<built-in method item of Tensor object at 0x7ffb05e70360>, 44864, 60000\n",
            "loss:<built-in method item of Tensor object at 0x7ffb05e4ecc0>, 51264, 60000\n",
            "loss:<built-in method item of Tensor object at 0x7ffb05e583b0>, 57664, 60000\n",
            "test error: accuracy 62.91, avg_loss: 1.2357913901092141\n",
            "loss:<built-in method item of Tensor object at 0x7ffb05e824a0>, 64, 60000\n",
            "loss:<built-in method item of Tensor object at 0x7ffb05e53770>, 6464, 60000\n",
            "loss:<built-in method item of Tensor object at 0x7ffb05e53630>, 12864, 60000\n",
            "loss:<built-in method item of Tensor object at 0x7ffb05e53040>, 19264, 60000\n",
            "loss:<built-in method item of Tensor object at 0x7ffb05e4aae0>, 25664, 60000\n",
            "loss:<built-in method item of Tensor object at 0x7ffb1206d2c0>, 32064, 60000\n",
            "loss:<built-in method item of Tensor object at 0x7ffb0616e400>, 38464, 60000\n",
            "loss:<built-in method item of Tensor object at 0x7ffb05e537c0>, 44864, 60000\n",
            "loss:<built-in method item of Tensor object at 0x7ffb05e58ae0>, 51264, 60000\n",
            "loss:<built-in method item of Tensor object at 0x7ffb05e5bb80>, 57664, 60000\n",
            "test error: accuracy 64.64999999999999, avg_loss: 1.077485509359153\n",
            "done\n"
          ]
        }
      ]
    },
    {
      "cell_type": "code",
      "source": [
        "torch.save(model.state_dict(), 'model.pth')\n"
      ],
      "metadata": {
        "id": "b7Skb7G_Aunb"
      },
      "execution_count": 27,
      "outputs": []
    },
    {
      "cell_type": "code",
      "source": [
        "reload = NeuralNetwork()\n",
        "reload.load_state_dict(torch.load('model.pth'))\n"
      ],
      "metadata": {
        "colab": {
          "base_uri": "https://localhost:8080/"
        },
        "id": "vJ0PKeFRCjZM",
        "outputId": "b5909c86-ba63-468c-a529-d48efc221bf4"
      },
      "execution_count": 30,
      "outputs": [
        {
          "output_type": "execute_result",
          "data": {
            "text/plain": [
              "<All keys matched successfully>"
            ]
          },
          "metadata": {},
          "execution_count": 30
        }
      ]
    },
    {
      "cell_type": "code",
      "source": [
        "clazz = [\n",
        "    'T-shirt/top','Trouser','Pullover',\n",
        "    'Dress','Coat','Sandal',\n",
        "    'Shirt','Sneaker','Bag','Ankle boot'\n",
        "]\n",
        "reload.eval()\n",
        "x,y = test_data[0][0], test_data[0][1]\n",
        "with torch.no_grad():\n",
        "  pred = reload(x)\n",
        "  predicted, actual = clazz[pred[0].argmax(0)],clazz[y]\n",
        "  print(f'predict:{predicted},actual:{actual}')"
      ],
      "metadata": {
        "colab": {
          "base_uri": "https://localhost:8080/"
        },
        "id": "_45-ehMCC_rn",
        "outputId": "f1ad0d51-dc41-48e7-fe52-d40bd0db1e3d"
      },
      "execution_count": 35,
      "outputs": [
        {
          "output_type": "stream",
          "name": "stdout",
          "text": [
            "predict:Ankle boot,actual:Ankle boot\n"
          ]
        }
      ]
    },
    {
      "cell_type": "code",
      "source": [],
      "metadata": {
        "id": "4njUKjOBEOLs"
      },
      "execution_count": null,
      "outputs": []
    }
  ]
}