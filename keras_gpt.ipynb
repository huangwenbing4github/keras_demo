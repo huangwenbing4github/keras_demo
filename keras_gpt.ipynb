{
  "cells": [
    {
      "cell_type": "markdown",
      "metadata": {
        "id": "view-in-github",
        "colab_type": "text"
      },
      "source": [
        "<a href=\"https://colab.research.google.com/github/huangwenbing4github/keras_demo/blob/main/keras_gpt.ipynb\" target=\"_parent\"><img src=\"https://colab.research.google.com/assets/colab-badge.svg\" alt=\"Open In Colab\"/></a>"
      ]
    },
    {
      "cell_type": "code",
      "execution_count": 3,
      "metadata": {
        "id": "Xp8gU_p96WON"
      },
      "outputs": [],
      "source": [
        "import os\n",
        "import keras_nlp \n",
        "import tensorflow as tf\n",
        "from tensorflow import keras"
      ]
    },
    {
      "cell_type": "code",
      "execution_count": 2,
      "metadata": {
        "colab": {
          "base_uri": "https://localhost:8080/"
        },
        "id": "SsnJ4J597ku0",
        "outputId": "2beb5956-bb19-4a8a-ed03-c79d2b8dd702"
      },
      "outputs": [
        {
          "output_type": "stream",
          "name": "stdout",
          "text": [
            "Looking in indexes: https://pypi.org/simple, https://us-python.pkg.dev/colab-wheels/public/simple/\n",
            "Collecting keras_nlp\n",
            "  Downloading keras_nlp-0.4.1-py3-none-any.whl (466 kB)\n",
            "\u001b[2K     \u001b[90m━━━━━━━━━━━━━━━━━━━━━━━━━━━━━━━━━━━━━━━\u001b[0m \u001b[32m466.8/466.8 kB\u001b[0m \u001b[31m9.8 MB/s\u001b[0m eta \u001b[36m0:00:00\u001b[0m\n",
            "\u001b[?25hCollecting tensorflow-text\n",
            "  Downloading tensorflow_text-2.12.0-cp39-cp39-manylinux_2_17_x86_64.manylinux2014_x86_64.whl (6.0 MB)\n",
            "\u001b[2K     \u001b[90m━━━━━━━━━━━━━━━━━━━━━━━━━━━━━━━━━━━━━━━━\u001b[0m \u001b[32m6.0/6.0 MB\u001b[0m \u001b[31m83.2 MB/s\u001b[0m eta \u001b[36m0:00:00\u001b[0m\n",
            "\u001b[?25hRequirement already satisfied: packaging in /usr/local/lib/python3.9/dist-packages (from keras_nlp) (23.0)\n",
            "Requirement already satisfied: absl-py in /usr/local/lib/python3.9/dist-packages (from keras_nlp) (1.4.0)\n",
            "Requirement already satisfied: numpy in /usr/local/lib/python3.9/dist-packages (from keras_nlp) (1.22.4)\n",
            "Requirement already satisfied: tensorflow-hub>=0.8.0 in /usr/local/lib/python3.9/dist-packages (from tensorflow-text->keras_nlp) (0.13.0)\n",
            "Requirement already satisfied: tensorflow<2.13,>=2.12.0 in /usr/local/lib/python3.9/dist-packages (from tensorflow-text->keras_nlp) (2.12.0)\n",
            "Requirement already satisfied: keras<2.13,>=2.12.0 in /usr/local/lib/python3.9/dist-packages (from tensorflow<2.13,>=2.12.0->tensorflow-text->keras_nlp) (2.12.0)\n",
            "Requirement already satisfied: h5py>=2.9.0 in /usr/local/lib/python3.9/dist-packages (from tensorflow<2.13,>=2.12.0->tensorflow-text->keras_nlp) (3.8.0)\n",
            "Requirement already satisfied: setuptools in /usr/local/lib/python3.9/dist-packages (from tensorflow<2.13,>=2.12.0->tensorflow-text->keras_nlp) (67.6.1)\n",
            "Requirement already satisfied: astunparse>=1.6.0 in /usr/local/lib/python3.9/dist-packages (from tensorflow<2.13,>=2.12.0->tensorflow-text->keras_nlp) (1.6.3)\n",
            "Requirement already satisfied: protobuf!=4.21.0,!=4.21.1,!=4.21.2,!=4.21.3,!=4.21.4,!=4.21.5,<5.0.0dev,>=3.20.3 in /usr/local/lib/python3.9/dist-packages (from tensorflow<2.13,>=2.12.0->tensorflow-text->keras_nlp) (3.20.3)\n",
            "Requirement already satisfied: opt-einsum>=2.3.2 in /usr/local/lib/python3.9/dist-packages (from tensorflow<2.13,>=2.12.0->tensorflow-text->keras_nlp) (3.3.0)\n",
            "Requirement already satisfied: grpcio<2.0,>=1.24.3 in /usr/local/lib/python3.9/dist-packages (from tensorflow<2.13,>=2.12.0->tensorflow-text->keras_nlp) (1.53.0)\n",
            "Requirement already satisfied: tensorflow-estimator<2.13,>=2.12.0 in /usr/local/lib/python3.9/dist-packages (from tensorflow<2.13,>=2.12.0->tensorflow-text->keras_nlp) (2.12.0)\n",
            "Requirement already satisfied: wrapt<1.15,>=1.11.0 in /usr/local/lib/python3.9/dist-packages (from tensorflow<2.13,>=2.12.0->tensorflow-text->keras_nlp) (1.14.1)\n",
            "Requirement already satisfied: typing-extensions>=3.6.6 in /usr/local/lib/python3.9/dist-packages (from tensorflow<2.13,>=2.12.0->tensorflow-text->keras_nlp) (4.5.0)\n",
            "Requirement already satisfied: libclang>=13.0.0 in /usr/local/lib/python3.9/dist-packages (from tensorflow<2.13,>=2.12.0->tensorflow-text->keras_nlp) (16.0.0)\n",
            "Requirement already satisfied: flatbuffers>=2.0 in /usr/local/lib/python3.9/dist-packages (from tensorflow<2.13,>=2.12.0->tensorflow-text->keras_nlp) (23.3.3)\n",
            "Requirement already satisfied: tensorflow-io-gcs-filesystem>=0.23.1 in /usr/local/lib/python3.9/dist-packages (from tensorflow<2.13,>=2.12.0->tensorflow-text->keras_nlp) (0.32.0)\n",
            "Requirement already satisfied: jax>=0.3.15 in /usr/local/lib/python3.9/dist-packages (from tensorflow<2.13,>=2.12.0->tensorflow-text->keras_nlp) (0.4.7)\n",
            "Requirement already satisfied: google-pasta>=0.1.1 in /usr/local/lib/python3.9/dist-packages (from tensorflow<2.13,>=2.12.0->tensorflow-text->keras_nlp) (0.2.0)\n",
            "Requirement already satisfied: six>=1.12.0 in /usr/local/lib/python3.9/dist-packages (from tensorflow<2.13,>=2.12.0->tensorflow-text->keras_nlp) (1.16.0)\n",
            "Requirement already satisfied: tensorboard<2.13,>=2.12 in /usr/local/lib/python3.9/dist-packages (from tensorflow<2.13,>=2.12.0->tensorflow-text->keras_nlp) (2.12.1)\n",
            "Requirement already satisfied: gast<=0.4.0,>=0.2.1 in /usr/local/lib/python3.9/dist-packages (from tensorflow<2.13,>=2.12.0->tensorflow-text->keras_nlp) (0.4.0)\n",
            "Requirement already satisfied: termcolor>=1.1.0 in /usr/local/lib/python3.9/dist-packages (from tensorflow<2.13,>=2.12.0->tensorflow-text->keras_nlp) (2.2.0)\n",
            "Requirement already satisfied: wheel<1.0,>=0.23.0 in /usr/local/lib/python3.9/dist-packages (from astunparse>=1.6.0->tensorflow<2.13,>=2.12.0->tensorflow-text->keras_nlp) (0.40.0)\n",
            "Requirement already satisfied: scipy>=1.7 in /usr/local/lib/python3.9/dist-packages (from jax>=0.3.15->tensorflow<2.13,>=2.12.0->tensorflow-text->keras_nlp) (1.10.1)\n",
            "Requirement already satisfied: ml-dtypes>=0.0.3 in /usr/local/lib/python3.9/dist-packages (from jax>=0.3.15->tensorflow<2.13,>=2.12.0->tensorflow-text->keras_nlp) (0.0.4)\n",
            "Requirement already satisfied: tensorboard-plugin-wit>=1.6.0 in /usr/local/lib/python3.9/dist-packages (from tensorboard<2.13,>=2.12->tensorflow<2.13,>=2.12.0->tensorflow-text->keras_nlp) (1.8.1)\n",
            "Requirement already satisfied: tensorboard-data-server<0.8.0,>=0.7.0 in /usr/local/lib/python3.9/dist-packages (from tensorboard<2.13,>=2.12->tensorflow<2.13,>=2.12.0->tensorflow-text->keras_nlp) (0.7.0)\n",
            "Requirement already satisfied: werkzeug>=1.0.1 in /usr/local/lib/python3.9/dist-packages (from tensorboard<2.13,>=2.12->tensorflow<2.13,>=2.12.0->tensorflow-text->keras_nlp) (2.2.3)\n",
            "Requirement already satisfied: google-auth-oauthlib<1.1,>=0.5 in /usr/local/lib/python3.9/dist-packages (from tensorboard<2.13,>=2.12->tensorflow<2.13,>=2.12.0->tensorflow-text->keras_nlp) (1.0.0)\n",
            "Requirement already satisfied: requests<3,>=2.21.0 in /usr/local/lib/python3.9/dist-packages (from tensorboard<2.13,>=2.12->tensorflow<2.13,>=2.12.0->tensorflow-text->keras_nlp) (2.27.1)\n",
            "Requirement already satisfied: markdown>=2.6.8 in /usr/local/lib/python3.9/dist-packages (from tensorboard<2.13,>=2.12->tensorflow<2.13,>=2.12.0->tensorflow-text->keras_nlp) (3.4.3)\n",
            "Requirement already satisfied: google-auth<3,>=1.6.3 in /usr/local/lib/python3.9/dist-packages (from tensorboard<2.13,>=2.12->tensorflow<2.13,>=2.12.0->tensorflow-text->keras_nlp) (2.17.2)\n",
            "Requirement already satisfied: rsa<5,>=3.1.4 in /usr/local/lib/python3.9/dist-packages (from google-auth<3,>=1.6.3->tensorboard<2.13,>=2.12->tensorflow<2.13,>=2.12.0->tensorflow-text->keras_nlp) (4.9)\n",
            "Requirement already satisfied: cachetools<6.0,>=2.0.0 in /usr/local/lib/python3.9/dist-packages (from google-auth<3,>=1.6.3->tensorboard<2.13,>=2.12->tensorflow<2.13,>=2.12.0->tensorflow-text->keras_nlp) (5.3.0)\n",
            "Requirement already satisfied: pyasn1-modules>=0.2.1 in /usr/local/lib/python3.9/dist-packages (from google-auth<3,>=1.6.3->tensorboard<2.13,>=2.12->tensorflow<2.13,>=2.12.0->tensorflow-text->keras_nlp) (0.2.8)\n",
            "Requirement already satisfied: requests-oauthlib>=0.7.0 in /usr/local/lib/python3.9/dist-packages (from google-auth-oauthlib<1.1,>=0.5->tensorboard<2.13,>=2.12->tensorflow<2.13,>=2.12.0->tensorflow-text->keras_nlp) (1.3.1)\n",
            "Requirement already satisfied: importlib-metadata>=4.4 in /usr/local/lib/python3.9/dist-packages (from markdown>=2.6.8->tensorboard<2.13,>=2.12->tensorflow<2.13,>=2.12.0->tensorflow-text->keras_nlp) (6.2.0)\n",
            "Requirement already satisfied: certifi>=2017.4.17 in /usr/local/lib/python3.9/dist-packages (from requests<3,>=2.21.0->tensorboard<2.13,>=2.12->tensorflow<2.13,>=2.12.0->tensorflow-text->keras_nlp) (2022.12.7)\n",
            "Requirement already satisfied: urllib3<1.27,>=1.21.1 in /usr/local/lib/python3.9/dist-packages (from requests<3,>=2.21.0->tensorboard<2.13,>=2.12->tensorflow<2.13,>=2.12.0->tensorflow-text->keras_nlp) (1.26.15)\n",
            "Requirement already satisfied: idna<4,>=2.5 in /usr/local/lib/python3.9/dist-packages (from requests<3,>=2.21.0->tensorboard<2.13,>=2.12->tensorflow<2.13,>=2.12.0->tensorflow-text->keras_nlp) (3.4)\n",
            "Requirement already satisfied: charset-normalizer~=2.0.0 in /usr/local/lib/python3.9/dist-packages (from requests<3,>=2.21.0->tensorboard<2.13,>=2.12->tensorflow<2.13,>=2.12.0->tensorflow-text->keras_nlp) (2.0.12)\n",
            "Requirement already satisfied: MarkupSafe>=2.1.1 in /usr/local/lib/python3.9/dist-packages (from werkzeug>=1.0.1->tensorboard<2.13,>=2.12->tensorflow<2.13,>=2.12.0->tensorflow-text->keras_nlp) (2.1.2)\n",
            "Requirement already satisfied: zipp>=0.5 in /usr/local/lib/python3.9/dist-packages (from importlib-metadata>=4.4->markdown>=2.6.8->tensorboard<2.13,>=2.12->tensorflow<2.13,>=2.12.0->tensorflow-text->keras_nlp) (3.15.0)\n",
            "Requirement already satisfied: pyasn1<0.5.0,>=0.4.6 in /usr/local/lib/python3.9/dist-packages (from pyasn1-modules>=0.2.1->google-auth<3,>=1.6.3->tensorboard<2.13,>=2.12->tensorflow<2.13,>=2.12.0->tensorflow-text->keras_nlp) (0.4.8)\n",
            "Requirement already satisfied: oauthlib>=3.0.0 in /usr/local/lib/python3.9/dist-packages (from requests-oauthlib>=0.7.0->google-auth-oauthlib<1.1,>=0.5->tensorboard<2.13,>=2.12->tensorflow<2.13,>=2.12.0->tensorflow-text->keras_nlp) (3.2.2)\n",
            "Installing collected packages: tensorflow-text, keras_nlp\n",
            "Successfully installed keras_nlp-0.4.1 tensorflow-text-2.12.0\n"
          ]
        }
      ],
      "source": [
        "!pip install keras_nlp"
      ]
    },
    {
      "cell_type": "code",
      "execution_count": 4,
      "metadata": {
        "id": "WRiRKT82ayf7"
      },
      "outputs": [],
      "source": [
        "BATCH_SIZE=64\n",
        "SEQ_LEN = 128\n",
        "MIN_TRAINING_SEQ_LEN=450\n",
        "\n",
        "EMBED_DIM=256\n",
        "FEED_FORWARD_DIM=256\n",
        "NUM_HEADS=3\n",
        "NUM_LAYERS=2\n",
        "VOCAB_SIZE=5000\n",
        "\n",
        "EPOCHS=6\n",
        "NUM_TOKENS_TO_GENERATE=80"
      ]
    },
    {
      "cell_type": "code",
      "execution_count": 5,
      "metadata": {
        "colab": {
          "base_uri": "https://localhost:8080/"
        },
        "id": "dIU8Bkfp-sIL",
        "outputId": "7954fefd-1659-43fc-ce31-811ca234b52e"
      },
      "outputs": [
        {
          "output_type": "stream",
          "name": "stdout",
          "text": [
            "Downloading data from https://dldata-public.s3.us-east-2.amazonaws.com/simplebooks.zip\n",
            "282386239/282386239 [==============================] - 4s 0us/step\n"
          ]
        }
      ],
      "source": [
        "keras.utils.get_file(\n",
        "    origin='https://dldata-public.s3.us-east-2.amazonaws.com/simplebooks.zip',\n",
        "    extract=True,\n",
        "    cache_subdir='/content'\n",
        ")\n",
        "dir = os.path.expanduser('/content/simplebooks/')\n",
        "raw_train_ds = (\n",
        "    tf.data.TextLineDataset('/content/simplebooks/simplebooks-92-raw/train.txt')\n",
        "    .filter(lambda x:tf.strings.length(x) > MIN_TRAINING_SEQ_LEN)\n",
        "    .batch(BATCH_SIZE)\n",
        "    .shuffle(buffer_size=256)\n",
        ")\n",
        "raw_val_ds = (\n",
        "    tf.data.TextLineDataset('/content/simplebooks/simplebooks-92-raw/valid.txt')\n",
        "    .filter(lambda x:tf.strings.length(x) > MIN_TRAINING_SEQ_LEN)\n",
        "    .batch(BATCH_SIZE)\n",
        ")"
      ]
    },
    {
      "cell_type": "code",
      "execution_count": 6,
      "metadata": {
        "id": "QEw9bywtAy6T"
      },
      "outputs": [],
      "source": [
        "vocab = keras_nlp.tokenizers.compute_word_piece_vocabulary(\n",
        "    raw_train_ds,\n",
        "    vocabulary_size=VOCAB_SIZE,\n",
        "    lowercase=True,\n",
        "    reserved_tokens=['[PAD]','[UNK]','[BOS]']\n",
        ")"
      ]
    },
    {
      "cell_type": "code",
      "execution_count": 7,
      "metadata": {
        "colab": {
          "base_uri": "https://localhost:8080/"
        },
        "id": "BBItz9TsCCG5",
        "outputId": "baa1205e-d5b7-46b8-c441-029d8ea75965"
      },
      "outputs": [
        {
          "output_type": "stream",
          "name": "stdout",
          "text": [
            "['[PAD]', '[UNK]', '[BOS]', '!', '\"', '$', '%', '&', \"'\", '(', ')', '*', '+', ',', '-', '.', '/', '0', '1', '2', '3', '4', '5', '6', '7', '8', '9', ':', ';', '=', '>', '?', '[', '\\\\', ']', '^', '`', 'a', 'b', 'c', 'd', 'e', 'f', 'g', 'h', 'i', 'j', 'k', 'l', 'm', 'n', 'o', 'p', 'q', 'r', 's', 't', 'u', 'v', 'w', 'x', 'y', 'z', '{', '|', '}', '~', '¢', '£', '°', 'à', 'á', 'â', 'ã', 'ä', 'å', 'ç', 'è', 'é', 'ê', 'ë', 'ì', 'í', 'î', 'ï', 'ñ', 'ò', 'ó', 'ô', 'ö', 'ù', 'ú', 'û', 'ü', 'č', 'ę', '—', 'the', 'and', 'to', 'of', 'in', 'was', 'he', 'that', 'it', '##s', 'had', 'his', 'as', 'for', 'with', 'they', 'on', 'but', 'her', 'at', 'she', 'were', 'you', 'not', 'be', 'him', 'all', 'is', 'so', 'have', 'by', 'from', '##ing', 'them', 'their', 'which', 'there', 'one', 'would', 'when', '##ed', 'we', 'this', 'up', 'been', 'out', 'or', 'who', 'if', 'an', 'my', 'could', 'no', 'then', 'me', '##ly', 'little', 'into', 'said', 'will', 'time', 'some', 'are', 'very', 'about', 'now', 'what', 'down', 'more', '##d', 'did', '##y', 'do', 'over', 'two', 'before', 'made', 'came', 'other', 'like', 'after', 'than', 'great', '##e', '##er', 'man', 'upon', 'see', 'any', 'only', 'men', 'well', 'good', 'where', 'went', 'day', 'way', 'your', 'old', 'our', 'much', 'go', 'back', 'long', 'come', 'should', 'can', '##t', 'first', 'away', 'just', 'its', 'never', 'know', 'us', 'these', 'while', 'through', 'off', 'has', 'again', 'such', 'might', 'how', 'many', 'here', 'get', 'himself', 'make', 'must', 'thought', '##r', 'too', 'being', '##a', 'saw', 'place', '##es', 'found', 'take', 'once', 'own', 'even', 'night', 'every', 'got', 'took', '##n', 'house', 'three', 'last', 'think', 'those', 'most', 'people', 'mr', 'though', 'king', 'still', 'may', 'knew', 'told', 'say', 'young', 'put', 'water', 'head', 'soon', 'seemed', 'left', 'without', 'father', 'home', 'another', '##in', 'side', '##on', 'looked', 'going', 'under', 'each', 'eyes', 'heard', 'work', '##l', 'few', 'right', 'ever', 'mother', 'until', 'life', 'hand', 'far', '##ness', '##o', 'nothing', 'because', 'always', 'things', 'tell', 'don', 'began', '##al', 'seen', 'am', 'look', 'room', '##ers', 'quite', 'give', 'enough', 'same', 'shall', 'however', 'round', 'fire', 'yet', 'done', 'course', 'against', 'new', 'let', 'along', 'face', 'white', 'morning', 'boy', 'felt', 'half', 'thing', 'gave', 'find', 'among', 'next', 'days', 'also', 'having', 'set', 'mrs', 'small', 'something', 'stood', 'part', 'near', 'called', 'almost', '##ion', 'both', 'moment', 'years', '##ment', 'better', 'brought', '##h', 'whole', '##le', 'feet', 'taken', 'end', 'boys', 'girl', 'door', '##ry', 'country', 'large', '##i', 'heart', 'hands', 'turned', '##or', 'll', '##ation', '##us', 'around', 'between', 'children', 'girls', 'best', 'sent', 'keep', 'others', 'light', 'behind', 'themselves', 'poor', 'lay', 'four', 'big', 'ground', 'miss', 'till', 'gone', 'together', 'mind', 'full', '##ity', 'sir', 'world', 'sure', '##an', 'sea', '##rs', '##able', 'herself', 'looking', '##ling', 'passed', 'fell', 'whom', 'river', 'sat', '##en', 'anything', '##est', 'captain', 'high', 'several', 'horse', 'kept', 'town', '##man', '##ful', '##ies', 'school', '##ie', 'hard', 'rest', 'open', 'indeed', 'help', 'friends', 'since', 'woman', 'why', '##ted', 'across', 'hundred', 'black', 'ran', 'coming', '##led', 'boat', 'rather', 'tree', '##et', 'air', 'red', 'although', '##k', 'want', 'close', 'camp', '##less', 'strong', 'asked', 'given', '##th', 'able', 'used', 'five', 'beautiful', 'kind', 'times', 'land', 'name', 'ready', 'perhaps', 'short', 'reached', 'didn', 'hour', 'child', 'carried', 'money', 'matter', 'dark', 'held', '##ting', 'party', 'pretty', 'often', 'ship', 'love', 'making', '##m', 'run', 'above', 'arms', 'friend', 'lost', 'sun', 'trees', 'order', '##ia', 'during', 'hear', 'cut', 'sight', '##st', 'sometimes', 'year', 'thus', '##ate', 'leave', '##ter', '##ive', 'became', 'wife', '##ge', 'nor', '##ic', 'war', 'bed', 'already', '##ous', 'son', '##nt', 'myself', 'followed', 'road', 'dear', 'rose', 'use', 'lady', 'miles', 'point', 'evening', 'really', '##ish', 'horses', 'whose', 'city', 'wanted', 've', 'everything', 'army', 'believe', 'suddenly', 'front', 'word', '##ar', 'known', 'feel', '##p', '##re', '##is', 'present', 'forward', 'care', 'within', 'fact', 'green', 'line', 'body', 'distance', 'hold', 'words', 'therefore', 'oh', 'alone', 'hope', 'wind', 'dead', 'least', 'tried', 'jack', 'god', 'general', 'less', 'either', 'towards', 'six', 'tom', 'nearly', 'prince', '##g', 'death', 'top', 'french', 'deep', 'force', '##men', 'whether', 'turn', 'return', 'returned', '##ance', 'foot', 'started', 'wild', '##ce', '##ant', 'certain', 'taking', 'ten', 'second', 'says', 'bear', 'brother', '##ine', 'sort', 'voice', 'enemy', 'blue', '##red', '##ch', 'happy', 'happened', 'hair', 'english', 'forest', 'possible', 'family', '##ts', 'master', '##id', 'twenty', 'toward', 'sound', '##il', 'position', 'de', 'hours', 'bring', 'heavy', '##ure', 'getting', 'table', 'case', 'call', 'true', 'number', 'gold', 'fight', '##ton', 'opened', 'led', 'lived', 'else', 'chance', 'glad', 'strange', 'fear', 'won', 'met', 'doing', 'caught', 'snow', '##nce', 'village', 'wood', 'story', 'earth', 'show', 'try', 'fast', 'shore', 'bad', 'fine', 'women', 'doubt', 'cannot', 'received', 'fellow', 'business', 'talk', 'different', '##ve', 'appeared', 'live', 'board', '##ty', 'means', 'trouble', 'instead', 'battle', 'walked', 'window', 'cold', 'shot', 'beyond', 'grew', '##it', 'hill', 'minutes', 'does', '##ped', '##ls', 'killed', 'food', 'power', 'become', 'sleep', 'carry', 'longer', 'entered', 'bright', 'stopped', 'seeing', 'wish', 'standing', 'daughter', 'saying', 'fall', 'placed', 'uncle', 'continued', 'company', 'none', 'ask', '##ping', '##ur', '##el', 'queen', 'feeling', 'yes', 'except', 'chief', 'read', 'idea', 're', 'manner', '##ged', 'covered', 'john', '##ious', 'laid', 'letter', '##ay', 'arrived', 'running', 'stand', 'island', '##ward', 'troops', 'deal', '##ily', 'filled', 'speak', 'need', 'struck', 'dog', '##b', 'later', 'thousand', 'pass', '##ary', 'reason', '##ied', '##ble', 'wall', 'below', '##ian', '##ned', '##age', 'low', 'past', '##te', 'mary', 'play', 'fair', 'watch', 'brown', 'news', '##ent', 'eat', 'attack', 'meet', '##ions', '##ice', '##as', 'itself', 'sitting', '##f', 'remember', 'early', 'eye', 'drew', 'state', 'certainly', 'besides', 'thinking', 'places', 'clear', 'afternoon', 'lord', 'straight', 'stone', 'north', 'castle', 'officers', 'stay', 'quiet', '##ny', '##ated', 'rode', '##um', 'garden', 'strength', 'couldn', 'hall', 'walk', 'indians', 'save', 'spot', '##u', 'send', 'cause', 'understand', '##tion', 'remained', 'likely', 'mouth', 'spoke', 'afraid', 'broken', 'england', 'danger', 'further', 'week', 'showed', 'direction', '##ments', 'princess', '##at', 'street', 'soldiers', 'form', 'slowly', '##ue', 'trying', 'neither', '##ile', '##w', 'fresh', 'seem', 'lake', 'nature', '##ened', 'beside', 'woods', 'rock', 'terrible', '##ley', 'sister', '##ard', 'outside', 'ought', '##ier', 'field', '##z', '##son', 'doctor', 'hardly', 'cried', 'piece', 'wide', 'service', '##by', '##dy', '##ne', 'aunt', 'person', 'suppose', 'pay', 'late', 'south', 'easy', 'palace', '##c', 'replied', 'forth', '##ging', 'stream', 'whatever', 'floor', 'escape', 'summer', 'spring', 'walls', 'ago', 'bird', 'guns', 'learned', 'following', 'real', 'winter', 'clothes', 'length', 'free', 'leaving', 'valley', '##ding', 'spirit', 'birds', 'arm', 'died', '##ical', 'attention', 'quickly', 'wonderful', 'knight', 'expected', '##ns', 'moved', '##cy', 'court', 'stop', '##se', '##ow', 'indian', 'harry', 'journey', 'threw', 'lying', 'sky', 'wouldn', '##les', 'west', 'clock', 'follow', 'decided', 'wished', 'living', '##ning', 'months', 'bit', 'sword', '##land', '##ial', 'pleasant', 'reach', 'blood', 'wait', 'dick', 'mean', 'mountains', 'middle', 'corner', 'book', 'comes', 'hot', '##ring', 'ye', 'church', 'bank', 'flowers', 'change', 'mountain', 'edge', 'sweet', 'seems', 'probably', 'waiting', '##ore', 'latter', 'fish', 'grass', 'answered', 'presently', 'houses', 'dress', 'account', 'eight', 'usual', 'dinner', 'broke', '##ered', 'loved', 'safe', 'interest', 'cross', 'scarcely', 'plain', 'husband', 'duty', 'legs', 'truth', 'watched', '##ings', 'immediately', 'colonel', 'heads', 'yards', 'appearance', '##ible', 'meant', '##x', 'finally', 'discovered', 'necessary', 'joy', 'question', 'talking', 'soft', 'wonder', 'thou', 'sharp', 'inside', '##ck', 'lot', 'surprise', 'train', 'thick', 'charge', 'fallen', 'orders', 'view', 'age', '##am', '##ute', 'hung', 'game', 'boats', 'rich', 'mine', 'ships', 'allowed', 'ones', 'seven', '##med', 'animals', 'minute', 'warm', '##ved', '##way', 'silver', 'fighting', '##ey', 'command', 'bottom', 'pleased', 'sudden', '##ets', 'pleasure', 'sit', 'cry', 'blow', 'knights', 'spent', 'altogether', 'easily', 'answer', '##ries', '##ks', 'move', 'somewhat', 'sides', '##our', 'paper', 'greatly', 'hole', 'third', 'start', 'tired', 'determined', 'hills', 'built', '##ched', '##ist', 'golden', '##ite', 'box', 'peter', 'impossible', 'wrong', 'ice', 'officer', 'ordered', 'raised', '##per', 'purpose', '##ir', 'everybody', 'path', '##ded', 'afterwards', 'laughed', '##ins', 'fifty', 'giving', 'visit', 'ill', 'lives', 'especially', 'tall', '##ot', '##ants', 'baby', 'nice', 'greater', 'march', 'liked', 'believed', 'deck', 'leaves', 'effect', 'rocks', 'ears', 'wasn', '##ities', 'guard', 'neck', 'difficulty', '##ors', 'gun', 'wounded', 'unless', '##ual', 'various', 'plan', 'ladies', '##ving', 'gentleman', 'formed', 'st', '##ss', '##ct', 'nobody', 'christmas', 'remain', 'pieces', 'act', 'steps', '##ence', 'added', 'peace', 'yourself', 'human', 'animal', 'anxious', 'fellows', 'instant', 'watching', 'scene', 'weeks', '##bed', 'caused', '##ably', 'entirely', 'ride', 'knows', '##tic', 'changed', 'noise', 'learn', 'books', '##ves', 'carefully', 'step', 'dropped', 'smoke', 'youth', 'asleep', 'gate', 'chair', 'rushed', 'mile', 'vessel', 'breakfast', 'passing', 'yellow', 'finished', 'occasion', 'brave', 'single', 'search', '##ds', 'bound', 'die', 'talked', 'weather', 'worked', 'storm', '##ain', 'tail', 'darkness', 'twelve', 'silence', '##ire', 'success', 'deer', 'pulled', '##0', 'thirty', 'noticed', 'knowing', 'dressed', 'break', 'turning', '##ps', 'british', 'wore', 'busy', 'ahead', 'prepared', 'lad', 'difficult', 'figure', 'east', 'grace', 'sorry', 'shut', 'iron', 'gathered', '##ut', 'engaged', 'faces', 'beginning', 'tears', 'spread', 'thrown', 'grown', 'catch', '##ra', 'finding', 'secret', '##fully', 'evidently', 'kill', 'attempt', 'soul', 'quietly', 'plenty', 'stones', 'france', '##ations', 'telling', 'waited', 'gray', '##ans', 'rope', 'quick', 'narrow', 'speed', 'exactly', 'paid', 'law', 'supper', 'ball', '##ad', 'keeping', 'seized', 'flew', 'glass', 'thoughts', 'nose', 'joined', 'broad', 'em', 'agreed', '##sion', 'farther', 'fox', 'fort', 'picture', 'fought', 'tea', 'mighty', '##oon', 'carrying', 'surprised', 'bushes', 'crowd', 'worse', 'rain', 'intended', 'ways', 'beauty', '##ified', 'shoulder', 'generally', 'london', 'dozen', 'loss', 'sprang', 'hat', 'subject', '##tive', 'married', 'notice', 'spite', 'walking', 'forget', 'opposite', 'bridge', 'sail', 'lower', '##me', '##one', 'drawn', '##cent', 'makes', 'rough', 'sense', 'advance', 'dry', 'offered', 'george', 'promised', 'remembered', 'main', 'windows', 'drove', 'played', 'begin', 'closed', '##de', 'knowledge', 'considerable', 'companions', 'join', 'lovely', 'courage', 'lie', 'brothers', 'considered', 'rate', 'opportunity', 'lead', 'lines', 'write', 'letters', 'coat', 'worth', '##ake', 'desire', 'coast', '##op', 'music', '##ade', '##rated', '##ound', 'greatest', 'holding', 'advanced', 'saved', 'presence', 'driven', 'huge', 'perfectly', 'band', 'object', 'cast', '##ray', 'natural', 'thee', 'supposed', '##na', 'angry', 'laugh', '##ger', 'common', 'drink', 'grow', 'bread', 'crew', 'particular', 'loud', 'fun', '##ip', 'nearer', 'matters', 'polly', 'obliged', 'wise', 'pocket', '##ma', 'beat', 'ring', '##ide', 'bow', '##ured', 'fairy', 'skin', 'office', 'seat', 'shoulders', 'silent', 'self', '##rd', 'burst', 'sad', '##ap', 'born', 'dogs', 'lips', 'sick', 'surely', 'splendid', 'proved', 'smile', 'breath', 'class', 'trail', 'rabbit', 'frightened', 'excitement', 'cousin', '##im', '##os', '##ess', 'quarter', 'frank', 'crossed', 'creature', 'grand', '##ished', 'fired', 'character', 'ned', 'conversation', 'working', 'meeting', 'roof', 'goes', 'pair', '##ke', 'kitchen', '##ury', 'guess', 'hunting', 'circumstances', '##king', '##ee', 'post', 'distant', '##ians', 'twice', 'fortune', 'station', '##der', 'majesty', 'named', 'stick', 'streets', 'delight', 'proud', 'needed', 'moon', 'size', 'meat', 'passage', 'hugh', 'hoped', 'please', 'powerful', '##uck', 'fields', 'promise', 'cat', 'important', 'observed', 'opinion', 'result', 'dollars', 'moving', 'former', 'drive', 'slept', 'opening', 'native', 'future', 'listened', '##ons', 'expect', 'growing', 'listen', 'comfort', 'condition', 'hurt', 'looks', 'tied', 'fancy', 'aid', 'regiment', 'billy', 'nine', '##un', 'settled', 'action', 'leading', 'bill', 'building', 'succeeded', 'space', 'fly', '##ber', '##ming', 'drawing', 'alive', '##ise', '##om', 'natives', 'rapidly', 'spirits', 'cavalry', 'rising', 'declared', 'parts', 'farmer', 'ain', 'fixed', 'managed', 'isn', 'picked', '##cing', 'forgotten', 'fit', 'morrow', 'marched', 'jim', 'pale', 'sufficient', 'sign', 'failed', '##ner', 'shook', '##rn', 'wondered', 'understood', 'hidden', 'jane', '##ll', 'farm', 'month', 'mounted', 'playing', 'throw', 'enter', '##ited', 'store', 'fond', 'honour', '##ig', 'robert', 'cabin', '##ists', 'lifted', 'en', 'ourselves', 'couple', 'square', 'canoe', '##ction', 'tent', 'advantage', '##mon', 'touch', 'bay', 'portion', 'occupied', 'giant', 'surface', '##ory', 'instantly', 'thin', 'car', 'anybody', 'gentlemen', '##lin', 'rolled', 'anne', 'draw', 'putting', 'hurried', 'evil', 'touched', '##sing', 'study', 'forty', 'escaped', 'flying', 'companion', '##ating', '##ug', 'usually', 'vain', '##well', 'forced', 'meal', 'share', 'higher', 'regard', 'numbers', 'handsome', 'resolved', '##ust', 'hut', 'duke', 'stars', '##tained', '##ath', '##ill', 'willing', 'wolf', 'required', 'branches', 'expression', 'falling', 'questions', 'experience', 'fairly', 'prisoners', '##oo', 'yard', 'aside', 'upper', '##ally', 'midst', 'receive', '##ham', 'simply', 'flat', '##ford', 'lose', 'happen', 'noble', '##ition', 'spoken', '##io', 'fifteen', '##als', '##ock', 'henry', 'rifle', 'note', 'perfect', 'public', 'swept', 'directly', '##art', 'bell', 'hit', 'sand', 'rear', 'beneath', 'rooms', 'disappeared', 'shining', '##oy', 'thy', 'pointed', 'written', '##owed', 'refused', '##uring', 'speaking', 'helped', 'shoes', '##ah', 'gentle', 'dream', 'appear', 'hungry', 'tiny', 'buy', 'riding', 'wrote', 'laughing', 'fully', 'dr', 'trust', 'arrival', 'teeth', 'shadow', 'comrades', 'royal', 'whenever', '##go', 'gained', 'clean', 'effort', 'possession', 'curious', 'doors', '##use', '##wood', 'comfortable', '##her', 'served', 'allow', 'simple', 'soldier', 'older', 'forgot', '##ery', 'taught', 'satisfied', 'race', 'wings', 'ceased', 'mass', 'shown', '##ob', 'armed', '##hood', 'rise', 'stranger', 'hearing', '##ress', 'anyone', 'serious', 'hearts', 'pain', 'merely', '##ose', 'ordinary', 'feelings', 'prevent', 'weight', 'welcome', 'cap', 'stairs', 'cave', '##rate', 'empty', '##ised', 'larger', 'proceeded', 'rush', 'servants', 'jumped', 'pa', 'obtained', 'unto', 'bent', 'offer', 'worn', '##ub', 'unable', '##uous', 'american', '##ud', '##ale', '##pe', 'knife', '##ron', 'seated', 'ate', '##kin', '##zy', 'enemies', 'fashion', 'clouds', 'entrance', 'satisfaction', 'accustomed', 'arthur', 'pushed', '##ric', 'mark', '##ony', 'shelter', 'york', '##nts', '##out', 'paul', '##ail', 'occurred', '##ver', 'fierce', 'grave', 'waves', '##ase', 'awful', '##ms', 'hadn', 'lieutenant', 'singing', '##la', '##ior', 'fat', 'cook', 'arranged', '##den', 'circle', '##tered', 'captured', 'slipped', 'wear', 'history', 'naturally', 'count', 'heaven', 'maybe', 'surrounded', 'nurse', '##ches', 'approached', 'drop', 'faith', 'burning', 'parties', 'fingers', 'regular', 'ear', '##val', 'fate', 'begun', '##tain', 'special', 'fastened', 'fleet', 'bore', 'bought', '##board', 'vast', 'mad', 'parents', '##day', 'knees', 'affair', 'bag', '##ft', '##gs', '##res', 'basket', 'respect', 'safety', 'ah', 'joe', 'dance', 'glance', 'mere', '##lay', 'dreadful', 'voices', '##sed', 'waters', 'wound', 'proper', '##rey', 'leader', 'shape', 'attacked', 'efforts', 'fled', '##unk', 'song', 'interested', 'report', '##ening', 'hide', '##que', 'difference', '##ak', 'cattle', 'apparently', 'excited', 'honor', 'wet', 'carriage', 'truly', 'dangerous', 'names', 'slight', 'cover', 'spanish', 'suffered', 'possessed', 'sisters', '##lm', 'sooner', 'spaniards', 'stories', 'completely', 'stepped', 'plans', 'shop', '##bert', '##ined', 'harm', '##ering', '##ized', 'spend', 'advice', 'bodies', 'influence', '##wed', 'amount', '##its', 'points', 'tremendous', '##end', '##ture', 'absolutely', 'hanging', 'weak', '##gue', '##va', 'hunter', 'interesting', 'rollo', '##ag', 'desperate', 'somehow', 'height', 'merry', '##au', 'scattered', 'stayed', '##tle', '##ump', 'prisoner', 'creatures', '##row', '##ster', 'calling', 'ocean', 'landed', 'pull', 'society', 'sake', 'private', 'pounds', 'cottage', '##tering', 'nevertheless', 'gradually', 'victory', '##mber', 'grandfather', 'treated', 'sailed', 'magic', 'sons', 'mistress', '##aw', '##ient', 'slow', 'hurry', '##ars', '##ked', '##ple', 'careful', 'pressed', 'according', 'voyage', 'eager', 'climbed', 'presented', 'stern', '##int', '##bing', 'otherwise', 'confidence', 'government', 'sorts', '##em', '##iring', 'vessels', 'warriors', 'stretched', '##bs', 'particularly', 'suit', 'centre', 'partly', 'situation', 'flower', 'aware', 'hunt', 'equal', 'everywhere', 'guide', 'college', 'german', 'hero', 'kingdom', 'leg', '##co', 'saddle', 'art', '##ack', 'possibly', 'season', 'star', 'wooden', 'struggle', 'wine', '##and', '##ten', 'belonged', '##ried', 'task', 'feared', 'smiled', 'eating', 'strike', 'kindly', 'sheep', '##gy', '##iest', 'due', 'group', 'hotel', '##ude', 'emperor', 'corn', 'dare', 'somewhere', '##ience', 'bare', 'milk', 'fruit', '##ze', 'marjorie', 'queer', 'servant', 'accompanied', 'sailors', 'reply', '##let', 'crept', 'shout', 'friendly', 'pride', 'loose', '##field', 'imagine', 'paris', 'beach', '##cious', '##oe', 'poured', 'rule', 'delighted', 'explained', 'scouts', 'enjoy', 'worst', 'heat', 'thank', 'moreover', 'persons', 'savage', 'thoroughly', 'reading', 'row', 'bush', 'cloth', 'lion', 'inches', 'lighted', 'risk', 'flight', 'quarters', '##lf', 'provisions', '##nie', 'increased', 'hollow', 'breast', 'bringing', 'happiness', 'closely', 'level', 'dust', 'gets', 'banks', 'approaching', '##house', 'language', 'younger', 'luck', 'handed', 'moments', 'tongue', 'property', 'signs', 'smaller', 'actually', 'tower', 'obtain', 'cool', 'movement', 'folks', 'lonely', '##tch', 'gay', 'pink', 'supply', 'governor', 'sunday', '##hip', 'chosen', 'track', 'begged', 'edward', '##py', '##ville', 'bade', 'trap', 'conduct', 'consider', 'win', 'craft', 'regarded', '##ration', 'dashed', 'signal', 'travel', 'leaped', 'port', 'burned', '##ok', 'members', 'tone', 'wicked', 'enjoyed', 'expedition', '##ick', 'evident', 'frequently', 'eggs', 'goods', 'shone', 'firm', '##oked', 'excellent', 'marked', 'shouted', '##ha', 'alarm', 'assistance', 'marry', '##be', 'terror', 'immense', '##ular', 'yesterday', '##ral', 'major', 'southern', '##cted', 'faint', 'painted', 'exclaimed', 'health', 'trip', 'somebody', 'sounds', 'shoot', 'calm', 'maid', '##ining', 'stuck', 'current', 'doesn', '##da', 'occasionally', 'information', 'affairs', 'fires', 'memory', 'sought', 'kinds', 'wants', 'pick', '##ler', '##uted', 'trade', 'showing', 'principal', 'relief', '##ul', 'log', 'tender', '##ism', '##ect', 'afterward', 'club', 'infantry', 'betty', '##vy', 'beheld', 'mud', 'pictures', 'sleeping', 'pity', 'climb', 'commanded', 'sing', '##ough', 'progress', 'bob', 'double', 'extent', '##rant', 'america', '##ight', 'worthy', '##iled', 'prove', '##eer', 'judge', 'approach', '##tor', 'laughter', 'complete', 'fortunately', 'hid', 'mistake', 'cheeks', 'cruel', '##ows', '##uff', 'message', 'returning', 'prison', 'seek', 'marriage', '##some', 'asking', 'bull', 'doubtless', 'hopes', 'takes', 'knocked', 'buried', 'northern', 'trunk', 'lads', 'meanwhile', '##ius', '##bly', 'value', 'match', 'anxiety', '##ast', 'useful', '##rt', 'precious', 'temple', 'realized', 'stout', 'eaten', 'similar', 'smooth', 'confusion', 'hundreds', 'scout', 'lessons', 'pipe', 'familiar', '##ium', 'gods', 'earnest', 'states', 'weary', '##old', 'thrust', '##ld', 'boots', 'chamber', 'numerous', 'grey', 'haven', 'famous', 'crying', 'dared', 'entire', 'nearest', 'speech', 'awake', '##itive', '##ship', 'buffalo', 'papers', '##pers', '##itude', 'sunshine', 'brilliant', 'dancing', '##ages', 'breaking', 'writing', 'smiling', 'wagon', 'rendered', '##dle', 'hiding', 'throat', 'gates', 'retreat', 'removed', 'united', '##unt', 'cloud', 'daily', 'spare', 'retired', 'bearing', 'holy', 'setting', 'content', 'crowded', 'inhabitants', '##iness', '##ters', 'arose', 'dad', 'guests', 'ended', 'successful', 'gently', 'previous', 'steady', '##room', 'clever', 'provided', 'absence', '##aking', 'commander', '##iles', 'islands', 'sounded', 'steep', 'peculiar', 'sorrow', 'range', '##ines', 'slaves', 'fred', 'pack', '##ris', 'column', 'steamer', '##ign', '##ize', 'desired', 'events', 'jump', '##otion', 'sank', 'despair', 'anger', 'cost', 'nigh', '##ific', '##all', '##oral', 'fill', 'william', 'skill', 'apart', 'cup', 'dragged', '##right', 'intention', 'thousands', 'adventure', 'serve', '##ges', '##mit', 'choose', 'motion', 'cid', 'safely', '##wing', '##lies', '##ically', '##ilt', '##wn', '##tin', '##ote', 'cow', 'foolish', 'gazed', 'seldom', 'appointed', 'fault', 'deeply', '##ival', '##ys', 'taste', '##rew', 'recovered', 'treasure', '##olly', 'wave', '##ode', 'pine', 'everyone', 'sold', 'pursuit', 'ends', '##mer', 'bark', 'extremely', 'arrow', 'repeated', 'listening', 'delightful', 'nights', 'stock', '##tance', 'james', 'fourth', 'funny', '##iling', 'explain', 'habit', 'steadily', 'feathers', '##ipped', '##pose', 'badly', 'minds', '##aled', 'sang', 'beast', 'delay', 'lest', 'rank', 'sending', 'terms', '##ove', 'holes', 'active', 'cared', '##ope', 'compelled', 'nest', '##rch', '##ush', 'david', 'mercy', 'softly', '##eon', '##gle', 'teacher', '##yard', 'feast', '##ination', 'ancient', 'brook', 'chase', 'gain', 'silk', '##ugh', 'build', 'directions', '##hy', 'council', 'discover', 'sum', 'cannon', 'color', 'unknown', 'arrows', 'sell', 'branch', 'kindness', '##ually', 'tide', 'driving', '##rick', 'swift', 'chose', 'fishing', '##orn', '##ums', '##to', 'daylight', 'degree', '##bel', 'reaching', 'capture', 'faithful', '##cial', 'accordingly', 'lights', 'importance', 'cliff', 'ridge', '##ga', '##lessly', 'utterly', 'grant', '##ising', 'cases', 'christian', '##using', 'support', 'earl', '##ro', 'roar', 'tribe', 'crown', 'concluded', '##ively', 'stores', 'invited', '##hed', 'cheerful', 'honest', 'period', '##ca', 'elephant', 'pool', 'sticks', '##rily', 'grief', 'pony', '##ics', '##izing', 'equally', '##ately', '##od', '##ria', '##ument', 'jesus', 'pace', 'ruth', 'breeze', 'heavily', 'powers', 'flesh', 'solid', 'term', '##tal', 'adventures', 'lands', '##ties', 'colour', '##ean', 'finger', 'helen', 'fur', '##cated', '##uing', '##ncy', 'cutting', 'warning', 'inch', 'professor', 'owing', '##ume', 'hastily', 'household', 'temper', 'missed', 'severe', 'utmost', 'visited', 'yours', 'beasts', 'haste', '##ats', 'ashore', 'plate', 'prize', '##00', 'accident', 'consequence', 'accept', 'dull', '##ell', 'anywhere', 'ben', 'squire', 'troubled', '##ool', 'favour', 'india', 'landing', 'highest', '##rk', 'wondering', 'creek', 'figures', 'mentioned', 'rested', 'accepted', 'barn', 'expressed', 'minister', 'garrison', 'manage', 'sailor', '##ishing', 'dorothy', 'pray', 'thunder', '##ew', 'divided', '##nes', 'extreme', 'blew', 'mysterious', 'useless', 'dat', '##sive', 'constantly', 'destroyed', 'prospect', 'thinks', '##read', 'maiden', 'military', 'shell', 'charlie', 'example', 'superior', '##illa', 'romans', 'teach', '##lt', 'suffering', '##ces', '##cks', '##up', 'papa', 'suggested', '##iance', 'astonished', 'curiosity', 'fence', 'rolling', 'spear', 'wheel', 'bitter', 'commenced', 'ere', '##ald', 'recognized', 'lesson', '##nic', 'credit', 'duties', 'headed', 'washed', '##line', 'sails', '##ens', '##urs', 'firing', 'raise', 'intense', 'rage', '##ator', '##ced', '##kins', 'charged', 'starting', 'rome', '##uise', 'western', 'crow', 'paused', 'throwing', '##gan', '##rine', 'countenance', 'frame', 'rapid', 'daughters', 'informed', 'plainly', '##ground', '##lish', 'glory', 'lies', 'uttered', '##aked', 'beds', 'insisted', 'pile', 'pole', 'slave', '##ind', '##ult', 'shield', '##my', '##ole', 'attached', 'magnificent', 'bones', 'resistance', '##ora', 'avoid', 'meantime', 'sympathy', 'secure', 'assured', 'crossing', 'flag', '##che', 'delicate', '##bled', '##itated', '##lection', 'throughout', '##ams', 'slightest', 'convinced', 'directed', 'strangers', 'stronger', 'tin', '##ood', '##posing', 'assembled', 'capital', 'friendship', 'meadow', 'wandered', '##nel', 'beaten', 'mate', 'preparations', 'sam', 'scarce', 'wash', '##ously', 'cleared', 'cries', 'slain', '##rence', '##ution', 'cart', 'contained', 'pure', 'center', 'wilderness', '##umbling', 'lodge', '##iment', '##oes', '##ren', 'flung', 'lamp', 'concealed', 'enormous', 'gift', 'inclined', '##rian', '##uss', 'fitted', 'ashamed', 'sixty', 'jerry', 'cheer', 'personal', 'tale', 'alice', 'bold', 'practice', 'rescue', 'valuable', '##vation', 'keen', 'prayer', '##igh', 'articles', 'hunters', 'strongly', '##antly', '##ash', 'energy', 'horn', '##mond', 'acted', '##iving', 'eleven', 'savages', 'shed', 'villages', '##ese', 'slip', 'troop', 'becoming', 'owner', '##ferred', '##oot', 'heels', 'midnight', '##ection', '##gled', 'custom', 'destruction', 'dragon', 'learning', 'exhausted', 'torn', '##ulous', 'artillery', 'dying', '##ift', 'foe', 'mamma', 'roads', 'staff', 'venture', 'amadis', '##ference', '##quired', 'admiration', 'dawn', 'er', 'mystery', 'spain', 'salt', 'continue', 'miserable', '##ads', 'kissed', 'shouting', 'loving', 'rushing', 'job', '##ify', 'fury', 'mischief', 'perceived', 'devoted', 'event', 'gathering', 'visible', 'wedding', 'guards', 'hitherto', 'thanks', '##ibly', 'key', 'platform', '##cle', 'roman', '##try', 'throne', 'ugly', '##late', 'tiger', 'passengers', 'wealth', '##ina', '##irt', '000', 'flame', 'forces', 'proposed', 'smith', 'tight', '##nted', '##rand', '##bor', 'noon', '##oda', 'walter', '##rid', 'accomplished', 'hath', 'price', 'wherever', '##ament', 'jolly', 'chest', 'grandmother', 'produced', 'swiftly', 'concerned', 'separated', 'faced', '##ices', 'chairs', 'garments', 'string', 'gives', '##oms', 'floating', 'jackson', '##uish', 'brief', '##ike', '##nk', '##ull', 'towns', 'whispered', 'constant', '##ridge', '##rge', '##tives', 'bottle', 'deserted', 'eagerly', 'host', 'powder', '##nse', 'described', '##aging', 'justice', 'stage', '##iable', '##zing', '##race', '##test', 'division', 'striking', 'works', '##ners', '##oop', '##wl', 'member', '##ep', 'anyway', 'discovery', 'homes', 'unhappy', '##like', 'capable', 'shade', 'straw', '##ave', '##tors', 'colored', 'firmly', 'flames', 'gather', 'employed', 'kings', 'troubles', 'descended', '##tes', 'dan', 'stuff', '##fall', 'foreign', 'locked', 'ralph', 'eagle', 'families', 'forehead', '##fer', '##ril', 'unusual', '##lare', '##pended', '##position', '##ues', 'education', 'wholly', '##aded', '##acy', '##ame', '##iers', '##isy', '##tte', 'mill', '##ents', 'desert', 'shake', '##ledge', '##liness', 'flash', 'union', '##loom', 'request', '##inct', 'clearly', 'attempted', 'merchant', '##itation', 'shouts', 'wrapped', 'faster', '##win', 'fairies', 'liberty', '##olt', 'horror', 'fail', '##ek', '##v', '##yer', 'collected', 'ease', '##und', 'coffee', 'shooting', 'triumph', 'blame', 'hers', '##key', '##served', '##time', 'siege', '##ators', 'apple', 'fool', 'anchor', 'dried', 'glanced', 'loaded', 'visitors', '##ils', 'entering', 'heap', 'ropes', 'affection', 'pond', '##rance', '##uly', 'al', 'meaning', 'services', 'swim', 'timber', 'add', 'load', 'shadows', 'waist', '##erving', '##lo', 'brain', 'machine', 'ma', 'mention', 'permitted', 'reader', 'stiff', '##ara', '##fore', 'dey', 'gardens', '##iful', '##pense', 'attend', 'attended', 'awoke', 'slightly', '##pt', 'susan', 'lots', 'europe', '##hing', '##lie', '##work', 'wishes', '##port', 'suffer', 'trial', 'travelling', '##oned', '##umb', 'martin', 'moonlight', 'steel', 'excuse', 'utter', 'roll', '##rime', '##riving', 'dreams', 'belt', 'cliffs', 'rifles', 'sugar', 'launcelot', 'secured', 'unfortunate', 'swung', 'admit', 'threatened', 'claim', 'games', 'hearted', 'impression', 'madam', '##ever', 'battery', 'extended', 'hoping', 'fever', 'remaining', '##aries', '##eral', '##take', 'astonishment', 'blind', 'danced', 'followers', 'furniture', '##ased', '##ol', '##iously', '##lled', 'enable', 'ranks', '##rity', 'speedily', 'sailing', 'advancing', 'existence', 'pot', 'remarkable', 'tents', 'whence', '##bling', 'charming', 'choice', 'christ', 'knee', 'team', '##fit', '##tly', 'oak', '##ching', '##ix', 'louis', '##rified', 'suspicion', 'blows', 'patient', 'tells', '##inated', '##ulf', 'lucy', 'wreck', '##oor', 'authority', 'chain', 'herd', 'odd', 'washington', '##liver', 'smell', '##ico', 'behold', 'blowing', 'mount', '##ild', '##za', 'dutch', 'market', '##orous', 'blankets', 'shock', '##ees', 'admiral', 'ladder', 'rocky', 'seats', '##mission', '##posed', 'oars', 'slope', '##wise', 'brush', 'disposed', 'lightning', '##foot', 'estate', '##ceive', '##most', 'acquainted', 'fetch', 'fortunate', 'beating', '##ids', '##ta', 'snake', 'arrive', 'la', 'roses', 'steam', 'turns', '##ky', 'defence', 'hated', 'region', 'leather', 'necessity', 'patience', 'suspected', '##iant', '##side', 'trained', 'chiefs', 'consisted', 'harold', '##mote', '##ruce', '##fined', 'engine', 'using', '##eered', 'acquaintance', 'messenger', 'stands', 'waste', 'bundle', 'drank', 'leap', 'direct', 'elder', 'movements', 'presents', '##bow', '##ught', 'completed', 'innocent', '##vey', 'horns', 'stared', 'glorious', 'president', 'stole', 'style', 'sultan', '##ord', 'frog', 'afford', 'belief', 'canoes', 'lee', 'reward', '##boat', '##ugged', 'charles', 'forms', 'saturday', 'settle', 'shame', 'wire', 'wives', 'axe', 'needs', 'regiments', 'rivers', 'sore', '##low', 'boxes', 'lively', 'punishment', '##shed', '##ven', 'audience', 'buildings', '##ax', '##ung', '##used', '##we', 'hang', 'lucky', '##bury', '##hen', '##rry', 'alike', 'connected', 'tracks', 'contrary', 'gaze', 'mixed', 'violent', 'jungle', 'probable', '##back', 'difficulties', 'furnished', 'rosy', 'stove', '##5', '##lain', '##orth', '##rous', '##rtain', '##vide', 'gazing', 'handle', '##acle', 'defend', 'heartily', 'highly', '##cend', '##eds', '##gin', 'cake', 'continually', 'express', 'pursued', 'skins', 'songs', 'wolves', 'false', 'feed', 'enabled', '##ace', 'agree', 'tables', 'obey', 'plains', 'quarrel', 'gifts', 'remark', 'longed', 'solemn', 'sufficiently', '##iding', 'gale', 'monster', '##tt', 'clothing', 'enthusiasm', '##rim', 'plants', 'reported', 'weapons', 'aloud', 'score', 'disturbed', '##ception', '##umble', '##ures', 'someone', '##rayed', 'anyhow', 'hate', 'ignorant', '##itch', '##via', 'countries', 'grounds', 'philip', '##lets', '##rier', 'bar', 'extra', 'furious', 'guessed', 'startled', 'cotton', 'disappointed', 'logs', 'stopping', '##ilton', '##ney', '##place', '##ram', 'monkey', '##ome', 'remarked', '##signed', 'foes', 'winds', 'evidence', 'exercise', 'bigger', 'brigade', 'eastern', '##icle', '##ructed', '##serve', '##tent', 'nervous', 'stolen', '##ws', 'bride', 'edgar', 'extraordinary', '##ided', 'examined', '##ane', '##ses', 'hearty', 'rid', '##ounded', '##tted', 'performed', 'protection', '##gest', '##tions', '##uated', 'blanket', '##din', 'dirty', 'prairie', 'reddy', 'wandering', '##teen', 'alongside', 'masses', '##amine', '##hine', 'blessed', 'bunch', 'elizabeth', 'jones', '##ander', '##bers', '##fs', '##oys', 'disappointment', '##pressed', '##tail', 'travellers', '##amp', '##lit', '##proved', 'experienced', 'masters', '##xed', 'favor', 'patty', 'seconds', 'travelled', 'swimming', '##tter', 'addition', 'hastened', '##li', '##net', '##ort', '##zard', 'bears', 'despite', 'oil', '##ait', 'daring', 'dim', 'priest', 'shortly', '##light', 'cloak', 'gladly', 'seas', 'horrible', 'notes', 'quantity', 'rang', 'desk', 'eighteen', 'fed', 'paint', 'ter', '##ison', 'exceedingly', 'robin', 'sheet', 'training', '##ass', '##icious', '##cts', '##ph', 'treat', '##bility', '##une', 'favourite', 'leaders', '##2', '##rung', 'assault', 'comparatively', 'push', 'resting', '##sign', 'amid', 'drowned', 'katy', 'neighbors', '##hrill', '##iece', '##ucked', '##ates', 'aim', 'bells', 'borne', '##ingly', '##tched', 'vanished', 'benefit', 'instance', 'passion', '##ained', 'departure', 'hospital', '##aming', '##bon', 'brass', 'species', 'tops', '##cies', 'bye', 'shirt', 'tommy', 'decide', 'terribly', 'bullet', 'departed', 'lift', 'remains', 'handkerchief', 'ideas', 'nobles', 'refuse', 'chances', 'defeat', 'imagined', 'occasions', 'peggy', '##roduce', 'horsemen', 'protect', '##oons', '##ttering', '##ulation', '##ias', '##rise', 'composed', 'deadly', 'description', 'fashioned', 'mingled', '##oil', 'succeed', 'cheek', 'established', 'mouse', 'plunged', 'railroad', 'regret', 'warrior', 'hind', 'wounds', '##ails', '##ert', '##ois', 'aspect', 'irish', 'shots', 'armour', 'horizon', 'permission', 'missing', 'properly', 'purple', 'abroad', 'conclusion', 'marching', 'ponies', 'armies', 'autumn', 'batteries', 'grateful', 'kiss', 'largest', 'announced', '##umbled', '##zed', 'flashed', 'freedom', 'mission', 'shells', 'swords', '##cation', 'features', 'neighbourhood', 'overcome', 'relieved', 'admitted', 'attracted', 'comrade', 'dressing', 'laying', 'scotland', '##rab', '##umps', 'happily', 'lightly', 'proof', 'waved', 'beloved', 'drinking', 'marks', 'subjects', 'exposed', 'hen', 'related', 'wisdom', '##ially', 'consent', 'leaned', 'mistaken', 'selected', 'wake', '##rip', 'fro', 'helpless', '##ret', 'chanced', 'halted', 'police', '##press', '##usted', 'barrel', 'concerning', 'trembling', '##udent', '##ying', 'bible', 'dresses', 'shaking', 'sixteen', '##ab', '##sses', '##umber', 'exception', 'jewels', 'killing', '##ceived', '##icing', 'measure', 'smart', 'woke', '##ington', 'railway', '##cles', '##mate', 'disposition', 'series', '##mented', 'chimney', 'den', 'favorite', 'issued', 'leaning', '##ication', '##master', '##vis', 'joke', 'phil', '##uary', 'falls', 'sunset', 'violence', '##fy', '##ivity', '##ued', 'cautiously', 'crash', 'freely', 'list', 'upstairs', '##rit', 'imagination', 'resist', 'uniform', '##acity', '##tling', 'dreamed', 'lately', 'manners', 'medicine', 'bullets', 'witch', '##rived', 'acting', 'dining', 'gratitude', 'hay', 'preparing', 'shores', '##iting', '##lour', 'fearful', 'prevented', 'princes', 'sigh', '##itable', 'diana', 'occasional', 'proceed', 'gallant', 'roots', 'youngest', '##couraged', 'atmosphere', 'forever', 'ours', 'rare', 'bedroom', 'limbs', 'unexpected', '##lla', 'burn', '##van', 'steal', 'streams', 'tore', '##arily', '##ented', '##iot', 'climbing', 'lane', 'richard', '##he', '##upon', '##wk', 'cooking', 'hunger', 'observe', 'harder', 'slender', 'swam', 'goat', 'goin', 'jo', 'neat', '##eding', '##wen', 'backs', 'monsieur', 'require', 'stirred', '##ken', '##verse', 'dishes', '##ailed', 'china', 'floated', 'forgive', 'objects', '##ature', 'pulling', '##elly', 'base', 'beaver', 'belonging', 'urged', '##eers', 'accompany', 'amusement', 'beg', 'calls', 'hither', '##cal', 'baggage', 'beard', 'doorway', '##ders', '##ility', '##pel', 'widow', '##gers', '##isting', 'addressed', 'alas', 'assist', 'belong', 'holiday', '##lation', 'meadows', '##ib', '##ik', '##ulate', 'distinguished', 'prayed', '##ien', 'blown', 'folk', 'wearing', 'seriously', '##burg', '##ulated', '##yn', 'delivered', 'instructions', 'weapon', '##rable', 'deeds', 'forests', 'inn', 'yer', 'earnestly', 'whistle', 'yell', '##ball', '##ooped', '##venge', 'arrangements', '##bles', 'burden', '##ipe', 'apartment', 'border', '##amed', '##pect', '##wan', 'cows', 'crest', 'elephants', 'glow', 'tones', 'wing', 'ammunition', 'eyed', 'leaf', '##ibility', '##own', '##with', 'cape', 'dignity', 'fancied', 'guest', 'rules', 'runs', 'tales', '##ac', '##rin', 'puzzled', '##range', 'brer', 'religion', '##reach', '##ubs', 'birth', 'fore', 'fountain', 'refuge', 'scenes', 'seventy', 'amongst', 'elsie', 'finish', 'marble', 'soil', '##sant', 'butter', '##gage', 'conscious', 'stroke', 'vision', '##uce', 'expecting', 'lack', 'lock', 'rubbed', '##gling', 'otter', 'readiness', 'scared', 'stable', '##lump', '##vince', 'pistol', 'poles', 'germans', 'page', '##ales', 'apt', 'finest', 'invitation', 'thither', 'alarmed', 'closer', 'dense', 'lit', 'packed', '##uments', 'career', 'pitch', 'pupils', 'trick', '##aring', 'bits', 'park', 'piled', '##ifted', '##oth', 'scarlet', '##iff', 'check', 'rat', 'tear', '##las', 'prepare', '##eus', '##igging', '##under', 'hunted', '##hanging', '##of', '##pire', 'conducted', 'mothers', 'owned', '##ouch', '##sted', '##unce', 'holidays', '##ived', '##olded', 'receiving', '##lect', '##pted', 'clad', 'saving', 'counted', 'lantern', 'laws', 'lunch', 'spell', 'contents', 'frozen', 'pockets', 'rude', '##aper', '##isted', '##rest', 'guilty', 'parted', 'thanked', '##pled', '##quire', '##rent', '##voured', 'silently', 'ventured', '##ilities', '##unted', 'darling', 'egg', 'failure', 'nora', '##cia', '##iana', '##ica', '##vour', 'dug', 'mast', 'upward', 'waving', '##ranny', '##rie', 'details', 'stir', '##iel', '##uit', 'artist', 'system', '##ona', 'reasons', 'sahwah', '##are', 'hector', 'sin', '##ield', '##uttered', 'control', 'worry', '##acon', '##cture', '##hold', '##ook', 'exciting', 'lowered', 'ravine', 'reflected', 'tayoga', '##ipping', 'examination', 'rows', 'tossed', '##ags', '##iver', '##ories', 'bosom', 'guy', 'wheels', 'whip', '##urn', 'bows', '##ites', '##lade', '##lowing', '##ounced', 'grasp', 'longing', 'remarks', '##lk', 'deeper', 'easier', 'harbour', 'nation', 'original', 'spears', '##pson', 'possibility', 'sergeant', 'conditions', 'tribes', 'address', 'material', 'pillow', '##air', 'cage', 'cities', 'demanded', 'popular', 'van', '##dled', '##jured', '##rons', 'chiefly', 'owl', 'prayers', 'restored', 'seeking', 'supplied', '##aws', '##eping', '##graph', '##hin', '##illed', '##urt', 'amused', 'colors', 'degrees', 'letting', 'robe', '##ird', '##mble', '##oped', '##ounted', '##unch', '##view', 'bless', 'burnt', 'plant', '##taken', 'introduced', 'sacrifice', 'saint', '##rf', '##urly', 'annie', 'gown', 'promptly', 'ruin', 'fifth', '##ink', 'conscience', 'destroy', 'fright', 'pig', '##els', 'catching', 'fourteen', 'motor', 'permit', 'absent', 'channel', 'glasses', 'hounds', 'losing', 'planned', 'roused', 'generous', 'intervals', 'nancy', '##cending', '##tract', 'agony', 'babies', 'daybreak', 'discipline', '##ugs', 'citizens', 'final', 'including', 'library', 'bet', 'diamond', 'obeyed', 'render', 'suitable', 'supplies', '##come', 'carpet', 'companies', 'glimpse', 'sees', 'apples', 'driver', 'farewell', 'june', 'rowed', 'searched', '##ading', 'ashes', 'attitude', 'stupid', 'humble', 'separate', '##vated', 'bid', 'jimmy', 'procession', '##hs', '##ought', 'absolute', 'frequent', '##af', '##gar', '##lot', 'angel', 'counsel', 'sandy', 'tie', 'trusted', '##ays', '##iors', '##lted', 'helmet', 'interior', 'pen', 'shows', 'whilst', '##pping', '##unning', 'candle', 'consideration', 'enterprise', 'pause', '##ishop', '##lands', '##urance', 'jan', 'recover', '##atic', '##hone', 'balls', 'covering', 'fortnight', 'kitty', 'nan', 'preferred', 'treatment', '##nd', 'hurled', 'lap', 'sweep', 'thomas', '##fa', '##uries', 'bags', 'blaze', 'canvas', 'helping', 'patch', '##ected', '##urd', 'flock', 'process', '##hes', '##loat', 'loudly', 'readily', 'settlement', '##acles', '##oiled', '##usk', 'feather', '##rait', '##sary', 'deed', '##rows', '##vent', 'judgment', 'grove', 'magician', 'porch', '##oly', '##tar', 'circus', 'hook', 'squirrel', 'staring', '##rop', 'containing', 'graceful', 'mignon', 'sacred', 'variety', '##ervation', '##osal', '##usion', 'bars', 'minded', 'searching', '##aught', 'fears', 'outer', 'resumed', 'shaped', 'sport', 'bands', 'pointing', 'stockings', 'tomorrow', '##city', 'colours', 'harbor', '##oke', '##vin', 'anxiously', 'crack', '##illing', '##iny', 'americans', 'corners', 'dwelt', 'flank', 'mist', 'silly', '##ith', '##pent', 'brow', 'facing', 'fog', 'tightly', '##gain', '##ork', '##ply', '##cuit', '##kes', '##opped', '##reated', 'agreeable', 'district', 'kathleen', 'paying', 'relations', 'surrounding', 'warn', '##agging', '##standing', 'raven', 'moss', 'violently', '##pulse', 'demand', 'doll', 'footsteps', 'martha', '##cher', '##eering', '##rained', 'neighborhood', '##eve', 'duck', 'habits', 'lofty', '##azed', '##part', 'awakened', 'raising', 'supported', 'pretended', 'realize', '##upted', 'cakes', 'christy', 'dash', 'gloomy', 'roaring', 'summit', 'enjoying', 'induced', 'mail', 'murder', 'wretched', '##iction', '##rupted', '##vor', 'ann', 'bowed', 'perform', 'tumbled', '##dith', '##ez', 'block', 'damsel', 'planted', 'press', 'aboard', 'damage', 'praise', 'struggled', 'twisted', 'warned', 'ha', 'peril', 'tobacco', '##ative', '##course', 'regions', '##ddy', '##ream', 'happens', 'overhead', 'scheme', 'thankful', '##ark', '##pped', '##rig', 'persuaded', '##ease', '##form', '##itious', '##nal', 'eldest', 'noted', '##haved', 'operations', 'performance', '##oarse', 'reckon', '##flict', '##kle', '##lined', 'dish', 'hence', '##ives', '##ttered', 'population', 'severely', '##erve', '##raced', '##sy', 'arrangement', 'frost', 'goodness', '##stic', 'bee', 'charm', 'confident', 'portuguese', 'solitary', 'unfortunately', '##etic', '##mouth', 'considerably', 'labour', 'modern', 'nuts', 'rays', 'stretch', 'claws', 'crawled', 'eric', 'seize', 'smoking', '##ems', '##icate', '##idable', 'aroused', 'county', 'git', 'idle', 'reality', '##ajah', '##rap', '##ruction', 'collar', 'committed', 'pirates', 'reminded', 'velvet', '##acks', '##equently', '##ization', '##ssie', '##table', 'august', 'elsewhere', 'fathers', 'marie', '##gant', '##prove', '##ras', 'assure', 'cooked', 'dwelling', 'eighty', 'spotted', 'coloured', 'dangers', 'dread', 'wept', '##luded', '##venient', 'hats', 'sally', '##long', '##rested', '##sh', 'bath', 'depths', 'encounter', 'hired', 'peaceful', 'thief', '##kled', '##mons', '##mpt', 'boldly', 'coach', 'ghost', 'negro', 'sioux', 'wishing', '##orm', 'admired', 'bitterly', 'fatal', 'risen', 'twilight', 'volume', '##mates', '##vous', 'facts', 'hedge', 'santa', 'trace', 'upset', '##4', '##erves', '##han', 'faded', 'amazement', 'grain', 'keeps', 'respects', '##hap', '##isfactory', 'cricket', 'distinctly', 'downstairs', 'exchange', 'sensible', '##ability', '##fused', '##icial', 'applied', 'harriet', 'unpleasant', '##cution', '##ox', 'albert', 'correct', 'explanation', 'singular', 'struggling', 'trot', '##ctive', '##lishment', '##rsh', 'greeted', 'moors', 'mostly', '##hill', 'defeated', 'plates', '##berry', '##ification', '##pendent', '##zzle', 'boughs', 'delicious', 'sadly', 'stomach', 'summoned', '##culated', '##dicated', 'bone', 'caution', 'distress', 'flood', 'route', 'spared', 'today', 'wont', '##vailed', 'combat', 'describe', 'hopeless', '##sitated', 'female', 'kettle', 'nodded', '##rape', 'fiercely', 'halt', 'wildly', '##ips', 'bowl', 'cellar', 'nephew', 'operation', 'treasures', 'trunks', '##6', '##gie', 'costume', 'laden', 'lasted', 'schooner', 'uncomfortable', '##ker', '##opy', 'afforded', 'boston', 'classes', 'confess', 'francis', 'immediate', 'irene', 'tails', '##worthy', 'exact', 'kicked', 'seed', 'trembled', 'wagons', '##clamation', 'pains', 'sink', '##uch', '##ucky', '##vel', 'bench', 'granted', 'holland', 'interfere', 'norman', 'pouring', '##not', 'upwards', '##nting', '##sue', '##ulations', 'africa', 'bidding', 'compared', 'consented', 'flowed', 'mirror', 'misfortune', 'naked', 'picking', 'possess', 'toad', 'tristram', '##ivil', '##lock', 'adopted', 'impressed', '##oss', '##ural', 'changes', 'gang', 'russian', '##cked', 'archie', 'feeding', '##ex', '##nis', 'aged', 'apparent', 'dora', 'guardian', '##ange', '##een', '##itution', '##oping', 'defenders', 'meg', '##aint', '##igs', '##pend', '##urity', 'hauled', 'raft', 'scent', '##aid', '##lied', '##rade', '##rush', 'cream', 'crushed', 'fix', 'neglected', 'paddle', 'purse', 'rupert', '##eth', '##iced', '##mine', '##outs', 'beings', 'bravely', 'groups', 'studied', 'traps', 'trousers', '##tus', 'hans', 'sunk', '##pired', 'bite', 'chin', 'ireland', 'ruined', '##paration', 'lover', '##finite', '##mb', '##sie', '##uched', '##uel', 'blazing', 'coats', 'roger', 'sunlight', 'unlike', '##oney', 'clung', 'kate', 'reputation', 'resolution', 'schools', '##atoes', 'contented', 'surrender', 'whisper', '##pin', '##rought', '##ube', 'posts', 'reuben', '##hile', '##losing', '##termination', 'hardy', 'plot', 'record', '##aling', '##prising', '##urst', 'increase', 'mortal', 'reduced', 'san', 'witness', '##ason', '##rging', 'backward', 'clerk', 'foam', 'navy', 'pushing', '##ife', '##ister', '##ours', 'ceremony', 'depth', '##olished', '##omed', '##ored', 'ages', 'parlor', 'physical', '##8', '##lushed', '##stone', '##tory', '##veyed', 'purchased', 'ragged', 'stately', '##called', '##lacing', '##wick', 'invisible', 'lawn', 'rights', 'undoubtedly', 'weeping', '##elves', '##ime', '##nces', '##uid', 'advised', 'careless', 'mule', 'sammy', '##hale', '##lover', '##ossum', '##rove', '##ulating', 'decision', 'drops', 'grasped', 'grim', 'hurrying', 'pardon', 'uneasy', '##lapped', 'boards', 'intend', 'orchard', 'remainder', 'shops', '##igent', '##sure', 'becomes', 'painful', 'paradise', 'rejoiced', 'souls', 'understanding', '##ards', '##grace', '##kling', 'appetite', 'glen', 'jealous', 'kick', 'knock', 'passes', 'shower', 'terence', '##bours', '##cended', '##ributed', 'darted', 'pitched', '##keeper', '##vil', 'method', 'sunny', 'touching', '##ident', '##ligious', '##tables', '##tim', '##ualities', 'believing', 'bend', 'dame', 'mexican', 'retire', 'strain', '##cently', '##orship', '##uts', '##wins', 'assumed', 'knives', '##creasing', '##scend', '##urf', 'escort', 'meals', 'misery', '##nest', '##rench', '##ware', 'abandoned', 'birthday', 'earlier', 'sharply', 'shouldn', '##ews', '##gestion', 'genius', 'lace', 'oswald', 'quality', 'wrath', '##asing', '##ecting', '##poil', 'coal', 'copper', 'curtains', 'ducks', 'intelligence', 'ridden', 'yonder', '##!', '##\"', '##$', '##%', '##&', \"##'\", '##(', '##)', '##*', '##+', '##,', '##-', '##.', '##/', '##1', '##3', '##7', '##9', '##:', '##;', '##=', '##>', '##?', '##[', '##\\\\', '##]', '##^', '##`', '##j', '##q', '##{', '##|', '##}', '##~', '##¢', '##£', '##°', '##à', '##á', '##â', '##ã', '##ä', '##å', '##ç', '##è', '##é', '##ê', '##ë', '##ì', '##í', '##î', '##ï', '##ñ', '##ò', '##ó', '##ô', '##ö', '##ù', '##ú', '##û', '##ü', '##č', '##ę', '##—']\n"
          ]
        }
      ],
      "source": [
        "print(vocab)"
      ]
    },
    {
      "cell_type": "code",
      "execution_count": null,
      "metadata": {
        "colab": {
          "base_uri": "https://localhost:8080/"
        },
        "id": "_dZSYwhLCCJu",
        "outputId": "cc55eada-1216-4837-9c77-dce1f653bc9f"
      },
      "outputs": [
        {
          "name": "stdout",
          "output_type": "stream",
          "text": [
            "ls: cannot access '/content/simplebooks/simplebooks-92-row/': No such file or directory\n"
          ]
        }
      ],
      "source": [
        "!ls -l /content/simplebooks/simplebooks-92-row/"
      ]
    },
    {
      "cell_type": "code",
      "execution_count": 8,
      "metadata": {
        "id": "9qXBjqv1HK88"
      },
      "outputs": [],
      "source": [
        "tokenizer = keras_nlp.tokenizers.WordPieceTokenizer(\n",
        "    vocabulary=vocab,\n",
        "    sequence_length=SEQ_LEN,\n",
        "    lowercase=True\n",
        ")\n",
        "start_packer = keras_nlp.layers.StartEndPacker(\n",
        "    sequence_length=SEQ_LEN,\n",
        "    start_value=tokenizer.token_to_id('[BOS]')\n",
        ")\n",
        "def preprocess(inputs):\n",
        "  outputs = tokenizer(inputs)\n",
        "  features = start_packer(outputs)\n",
        "  labels = outputs\n",
        "  return features,labels\n",
        "\n",
        "train_ds = raw_train_ds.map(preprocess, num_parallel_calls=tf.data.AUTOTUNE).prefetch(\n",
        "    tf.data.AUTOTUNE\n",
        ")\n",
        "val_ds = raw_val_ds.map(preprocess, num_parallel_calls=tf.data.AUTOTUNE).prefetch(\n",
        "    tf.data.AUTOTUNE\n",
        ")"
      ]
    },
    {
      "cell_type": "code",
      "execution_count": 9,
      "metadata": {
        "id": "j86gMinZLfIN"
      },
      "outputs": [],
      "source": [
        "inputs = keras.layers.Input(shape=(None,),dtype=tf.int32)\n",
        "embedding_layer = keras_nlp.layers.TokenAndPositionEmbedding(\n",
        "    vocabulary_size=VOCAB_SIZE,\n",
        "    sequence_length=SEQ_LEN,\n",
        "    embedding_dim=EMBED_DIM,\n",
        "    mask_zero=True\n",
        ")\n",
        "x = embedding_layer(inputs)\n",
        "for _ in range(NUM_LAYERS):\n",
        "  decoder_layer = keras_nlp.layers.TransformerDecoder(\n",
        "      num_heads=NUM_HEADS,\n",
        "      intermediate_dim=FEED_FORWARD_DIM,\n",
        "  )\n",
        "  x = decoder_layer(x)\n",
        "outputs = keras.layers.Dense(VOCAB_SIZE)(x)\n",
        "model = keras.Model(inputs=inputs,outputs=outputs)\n",
        "loss_fn = tf.keras.losses.SparseCategoricalCrossentropy(from_logits=True)\n",
        "perplexity = keras_nlp.metrics.Perplexity(from_logits=True,mask_token_id=0)\n",
        "model.compile(optimizer='adam',loss=loss_fn,metrics=[perplexity])\n"
      ]
    },
    {
      "cell_type": "code",
      "execution_count": 10,
      "metadata": {
        "colab": {
          "base_uri": "https://localhost:8080/"
        },
        "id": "PUVsPMKKBWyd",
        "outputId": "f23d1526-23ce-4048-cb86-f2a7b0781c32"
      },
      "outputs": [
        {
          "output_type": "stream",
          "name": "stdout",
          "text": [
            "Model: \"model\"\n",
            "_________________________________________________________________\n",
            " Layer (type)                Output Shape              Param #   \n",
            "=================================================================\n",
            " input_1 (InputLayer)        [(None, None)]            0         \n",
            "                                                                 \n",
            " token_and_position_embeddin  (None, None, 256)        1312768   \n",
            " g (TokenAndPositionEmbeddin                                     \n",
            " g)                                                              \n",
            "                                                                 \n",
            " transformer_decoder (Transf  (None, None, 256)        394749    \n",
            " ormerDecoder)                                                   \n",
            "                                                                 \n",
            " transformer_decoder_1 (Tran  (None, None, 256)        394749    \n",
            " sformerDecoder)                                                 \n",
            "                                                                 \n",
            " dense (Dense)               (None, None, 5000)        1285000   \n",
            "                                                                 \n",
            "=================================================================\n",
            "Total params: 3,387,266\n",
            "Trainable params: 3,387,266\n",
            "Non-trainable params: 0\n",
            "_________________________________________________________________\n"
          ]
        }
      ],
      "source": [
        "model.summary()"
      ]
    },
    {
      "cell_type": "code",
      "execution_count": 11,
      "metadata": {
        "colab": {
          "base_uri": "https://localhost:8080/"
        },
        "id": "Ljq1idy3BbOk",
        "outputId": "f26910bd-de31-4f4a-fd9b-6a9de09dcb94"
      },
      "outputs": [
        {
          "output_type": "stream",
          "name": "stdout",
          "text": [
            "Epoch 1/6\n",
            "3169/3169 - 385s - loss: 4.5747 - perplexity: 97.3710 - val_loss: 4.1101 - val_perplexity: 61.5153 - 385s/epoch - 122ms/step\n",
            "Epoch 2/6\n",
            "3169/3169 - 232s - loss: 4.0477 - perplexity: 57.4883 - val_loss: 3.9968 - val_perplexity: 55.0295 - 232s/epoch - 73ms/step\n",
            "Epoch 3/6\n",
            "3169/3169 - 231s - loss: 3.9374 - perplexity: 51.4791 - val_loss: 3.9345 - val_perplexity: 51.5681 - 231s/epoch - 73ms/step\n",
            "Epoch 4/6\n",
            "3169/3169 - 231s - loss: 3.8760 - perplexity: 48.4129 - val_loss: 3.8886 - val_perplexity: 49.2482 - 231s/epoch - 73ms/step\n",
            "Epoch 5/6\n",
            "3169/3169 - 240s - loss: 3.8351 - perplexity: 46.4743 - val_loss: 3.8484 - val_perplexity: 47.3795 - 240s/epoch - 76ms/step\n",
            "Epoch 6/6\n",
            "3169/3169 - 244s - loss: 3.8043 - perplexity: 45.0633 - val_loss: 3.8385 - val_perplexity: 46.8944 - 244s/epoch - 77ms/step\n"
          ]
        },
        {
          "output_type": "execute_result",
          "data": {
            "text/plain": [
              "<keras.callbacks.History at 0x7ff779e77eb0>"
            ]
          },
          "metadata": {},
          "execution_count": 11
        }
      ],
      "source": [
        "model.fit(train_ds,validation_data=val_ds,verbose=2,epochs=EPOCHS)"
      ]
    },
    {
      "cell_type": "code",
      "source": [
        "prompt_tokens = tf.convert_to_tensor([tokenizer.token_to_id('[BOS]')])\n",
        "def token_logits_fn(inputs):\n",
        "  cur_len = inputs.shape[1]\n",
        "  output = model(inputs)\n",
        "  return output[:,cur_len-1,:]\n"
      ],
      "metadata": {
        "id": "HqPP47m5R0u8"
      },
      "execution_count": 12,
      "outputs": []
    },
    {
      "cell_type": "code",
      "source": [
        "output_tokens = keras_nlp.utils.greedy_search(\n",
        "    token_logits_fn,\n",
        "    prompt_tokens,\n",
        "    max_length=NUM_TOKENS_TO_GENERATE\n",
        ")\n",
        "txt = tokenizer.detokenize(output_tokens)\n",
        "print(f'Greedy search generated text:\\n{txt}\\n')"
      ],
      "metadata": {
        "colab": {
          "base_uri": "https://localhost:8080/"
        },
        "id": "07huxRazST2j",
        "outputId": "55a8ba02-856f-48e8-ba51-be011b9094d6"
      },
      "execution_count": 13,
      "outputs": [
        {
          "output_type": "stream",
          "name": "stdout",
          "text": [
            "Greedy search generated text:\n",
            "b'[BOS] \" i am glad to have you , sir , \" said the knight , \" and i am glad that you have been a knight , and i have been so long before you have been able to do so . i have been thinking of your being a knight , and i have been so long before you have been able to do so , and i have been able to do so . i have been'\n",
            "\n"
          ]
        }
      ]
    },
    {
      "cell_type": "code",
      "source": [
        "output_tokens = keras_nlp.utils.beam_search(\n",
        "    token_logits_fn,\n",
        "    prompt_tokens,\n",
        "    max_length=NUM_TOKENS_TO_GENERATE,\n",
        "    num_beams=10,\n",
        "    from_logits=True\n",
        ")\n",
        "txt = tokenizer.detokenize(output_tokens)\n",
        "print(f'Beam search generated text:\\n{txt}\\n')"
      ],
      "metadata": {
        "colab": {
          "base_uri": "https://localhost:8080/"
        },
        "id": "ZVc43pebSuFQ",
        "outputId": "b538f6c3-9907-48f9-f275-5a342789af5d"
      },
      "execution_count": 15,
      "outputs": [
        {
          "output_type": "stream",
          "name": "stdout",
          "text": [
            "Beam search generated text:\n",
            "b'[BOS] \" i don \\' t know , \" he said , \" but i don \\' t know what i am going to do . i don \\' t know what i have to do , but i don \\' t know what i have to do . i don \\' t know what i have to do , but i don \\' t know what i have to do . i don \\' t know whether i am'\n",
            "\n"
          ]
        }
      ]
    },
    {
      "cell_type": "code",
      "source": [
        "output_tokens = keras_nlp.utils.random_search(\n",
        "    token_logits_fn,\n",
        "    prompt_tokens,\n",
        "    max_length=NUM_TOKENS_TO_GENERATE,\n",
        "    from_logits=True\n",
        ")\n",
        "txt = tokenizer.detokenize(output_tokens)\n",
        "print(f'random search generated text\\n{txt}\\n')"
      ],
      "metadata": {
        "colab": {
          "base_uri": "https://localhost:8080/"
        },
        "id": "ntbwbDlqThyb",
        "outputId": "971992ff-450e-46d2-be85-b3713387f60b"
      },
      "execution_count": 18,
      "outputs": [
        {
          "output_type": "stream",
          "name": "stdout",
          "text": [
            "random search generated text\n",
            "b'[BOS] the little girls happened before landing , and during her pains was in the million . this was the artist of his two best friends she had known and sirny for her ; she had thought enough she could get something behind they had . etcermentors and clumsily was as worthy of all , the considered herself as healthy . at sunset and the afternoon sky beganness'\n",
            "\n"
          ]
        }
      ]
    },
    {
      "cell_type": "code",
      "source": [],
      "metadata": {
        "id": "AbhurDskUuiv"
      },
      "execution_count": null,
      "outputs": []
    }
  ],
  "metadata": {
    "accelerator": "GPU",
    "colab": {
      "provenance": [],
      "authorship_tag": "ABX9TyPzwwM1bcL1Sr4Hl/V5rAe8",
      "include_colab_link": true
    },
    "gpuClass": "standard",
    "kernelspec": {
      "display_name": "Python 3",
      "name": "python3"
    },
    "language_info": {
      "name": "python"
    }
  },
  "nbformat": 4,
  "nbformat_minor": 0
}